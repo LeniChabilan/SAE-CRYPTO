{
 "cells": [
  {
   "cell_type": "markdown",
   "metadata": {},
   "source": [
    "# Partie 1 \n",
    "### Chiffrement SDES:"
   ]
  },
  {
   "cell_type": "code",
   "execution_count": 50,
   "metadata": {},
   "outputs": [],
   "source": [
    "from DES import *\n",
    "\n",
    "def chiffrage(message, cle):\n",
    "    \"\"\"\n",
    "    Chiffre le message en utilisant l'algorithme DES.\n",
    "\n",
    "    Args:\n",
    "        message (str): Le message à chiffrer.\n",
    "        cle (str): La clé de chiffrement.\n",
    "\n",
    "    Returns:\n",
    "        str: Le message chiffré.\n",
    "    \"\"\"\n",
    "    message_chiffre = \"\"\n",
    "    for lettre in message:\n",
    "        message_chiffre += chr(encrypt(cle, ord(lettre)))\n",
    "    return message_chiffre\n",
    "\n",
    "\n",
    "def dechiffrage(message_chiffre, cle):\n",
    "    \"\"\"\n",
    "    Déchiffre le message chiffré en utilisant l'algorithme DES.\n",
    "\n",
    "    Args:\n",
    "        message_chiffre (str): Le message chiffré.\n",
    "        cle (str): La clé de déchiffrement.\n",
    "\n",
    "    Returns:\n",
    "        str: Le message déchiffré.\n",
    "    \"\"\"\n",
    "    message_clair = \"\"\n",
    "    for lettre in message_chiffre:\n",
    "        message_clair += chr(decrypt(cle, ord(lettre)))\n",
    "    return message_clair\n"
   ]
  },
  {
   "cell_type": "code",
   "execution_count": 51,
   "metadata": {},
   "outputs": [],
   "source": [
    "def chifrementSDES(text, cle1, cle2):\n",
    "    \"\"\"\n",
    "    Chiffre le texte en utilisant l'algorithme Simplified Data Encryption Standard (SDES).\n",
    "\n",
    "    Args:\n",
    "        text (str): Le texte à chiffrer.\n",
    "        cle1 (str): La première clé de chiffrement pour SDES.\n",
    "        cle2 (str): La deuxième clé de chiffrement pour SDES.\n",
    "\n",
    "    Returns:\n",
    "        str: Le texte chiffré à l'aide de SDES.\n",
    "    \"\"\"\n",
    "    cryp1 = []\n",
    "    cryp2 = []\n",
    "    mot_chiffre = \"\"\n",
    "    \n",
    "    # Chiffrement avec la première clé\n",
    "    for char in text:\n",
    "        cryp1.append(encrypt(cle1, ord(char)))\n",
    "    \n",
    "    # Chiffrement avec la deuxième clé\n",
    "    for char in cryp1:\n",
    "        cryp2.append(encrypt(cle2, char))\n",
    "    \n",
    "    # Conversion des résultats chiffrés en caractères\n",
    "    for char in cryp2:\n",
    "        mot_chiffre += chr(char)\n",
    "    \n",
    "    return mot_chiffre\n"
   ]
  },
  {
   "cell_type": "code",
   "execution_count": 52,
   "metadata": {},
   "outputs": [],
   "source": [
    "def dechifrementSDES(text, cle1, cle2):\n",
    "    \"\"\"\n",
    "    Déchiffre le texte chiffré à l'aide de l'algorithme Simplified Data Encryption Standard (SDES).\n",
    "\n",
    "    Args:\n",
    "        text (str): Le texte chiffré à déchiffrer.\n",
    "        cle1 (str): La première clé de chiffrement utilisée pour le déchiffrement SDES.\n",
    "        cle2 (str): La deuxième clé de chiffrement utilisée pour le déchiffrement SDES.\n",
    "\n",
    "    Returns:\n",
    "        str: Le texte déchiffré à l'aide de SDES.\n",
    "    \"\"\"\n",
    "    decrypt1 = []\n",
    "    decrypt2 = []\n",
    "    \n",
    "    # Déchiffrement avec la deuxième clé\n",
    "    for char in text:\n",
    "        decrypt1.append(decrypt(cle2, ord(char)))\n",
    "    \n",
    "    # Déchiffrement avec la première clé\n",
    "    for char in decrypt1:\n",
    "        decrypt2.append(decrypt(cle1, char))\n",
    "    \n",
    "    # Conversion des résultats déchiffrés en caractères\n",
    "    mot_dechiffre = \"\"\n",
    "    for char in decrypt2:\n",
    "        mot_dechiffre += chr(char)\n",
    "    \n",
    "    return mot_dechiffre\n"
   ]
  },
  {
   "cell_type": "code",
   "execution_count": 58,
   "metadata": {},
   "outputs": [
    {
     "name": "stdout",
     "output_type": "stream",
     "text": [
      "Text chiffré SDES : ßwwX\n",
      "Text déchiffré SDES :Hello\n"
     ]
    }
   ],
   "source": [
    "# Chiffrement dechiffrement SDES\n",
    "clé1 = 0000000000\n",
    "clé2 = 11\n",
    "Message_claire = \"Hello\"\n",
    "Text_chiffre_SDES=chifrementSDES(Message_claire,clé1,clé2)\n",
    "\n",
    "print(\"Text chiffré SDES : \" + Text_chiffre_SDES)\n",
    "\n",
    "Text_dechiffre_SDES = dechifrementSDES(Text_chiffre_SDES,clé1,clé2)\n",
    "\n",
    "print(\"Text déchiffré SDES :\" + Text_dechiffre_SDES)"
   ]
  },
  {
   "cell_type": "code",
   "execution_count": 59,
   "metadata": {},
   "outputs": [
    {
     "name": "stdout",
     "output_type": "stream",
     "text": [
      "Text chiffré SDES : Ò.WßOïßºßOï%0ïº×\n",
      "ºw0!%ßºµ¾%p½ßºÏ\n",
      "\u00030½7º>ß½ïwßc½ÜMcY%0Xwß\n",
      "%µº×ßº3\n",
      "%0MßºÏßYw½M\u0017ÒºLX\n",
      "%MßÁºwßº\u0003%X\u0015ßïº¸\n",
      "ïß½Yß%>º\u001fïï\u0003pÁ°°\u0014>\n",
      "ïß½Yß%>\u0014X%>°ßYXX\\p°*¨çJ¯\u0017\u0017¾%p½ßºÏ\n",
      "\u00030½º\u0003%c0º½X\n",
      "pÞºwä0½p0p0ppYwßºMcY%0Xwß\n",
      "%º×X½ïºX½º%MX½ï0ï\u0017wßpº\u0003%X\n",
      "ßppßpº×½pºïX\n",
      "pºwßpº\u0015X\n",
      "%½\n",
      "Oº×ß\u0003\n",
      "0pº×ßpºcX0pÞºwä\u0016½0>cï0«\n",
      "ß\u0017\u0003ß%pX½½>ßº!ßMº«\n",
      "0ºwßº!0ß\n",
      "Oº¸½0c%×7º½Xï%ßºcß0wwß\n",
      "%º\u0003Xw0M0ß%7º!0ï\u0017ß½>>\u0016ºMßº×\n",
      "ßwº1ºcX%ïº×X½ïºwßpº\u0003\u0016%0\u0003\u0016ï0ßpºpßº×\u0016%X\n",
      "w0ß½ïº×ßº\u001c\u0018X½ºp0\u0017\u00030ïïX%ßp«\n",
      "ßÞº¾%p½ßºÏ\n",
      "\u00030½7ºwßº\u001c½ï0p0pïßº>ß½ïwßc½º«\n",
      "0º½äX\u0003%ßº«\n",
      "ß\u0017×½pºwßpºM\u001f{ïß\n",
      "OºßïºwßpºpwX½p7ºßïº«\n",
      "07º\n",
      "½ßº½\n",
      "0ï7ºX\u0013º0wº!0ïº\u0003\u0016½\u0016ï%\u0016\u0017M\u001fßºwßºY%X½ºLM\u001fX%c½½7ºß½º\u0016ï0ïº\u0003%ï0ºwßpºc0½pº!0×ßpºßïº!0ï\u0017w0pp\u0016ºpºM%ïß7ºX%½\u0016ßº×ßºMßïïßº\u001cX%c\n",
      "wßÁºå¾%p½ßºÏ\n",
      "\u00030½7\u0017>ß½ïwßc½ÜMcY%0Xwß\n",
      "%7º%ß!0ß½×%º«\n",
      "½×ºwßpºcß\n",
      "Ywßpºpß%X½ï\u0017\n",
      "ï\u001fß½ï0«\n",
      "ßpD\u0014º¾%p½ßºÏ\n",
      "\u00030½7ºwä\u001fXccßº\n",
      "Oºc0wwßº×\u0016>\n",
      "0pßcß½ïpÁºïX\n",
      "%º1\u0017ïX\n",
      "%ºM\u001f\n",
      "\u001c\u001cß\n",
      "%7ºï\u0016½X%7ºYXX\\c\\ß%7º\u001c0wpº×ßº\u001cc0wwß7º×XwßpMß½ï7\u0017!0ß0ww%×7ºMXcc0pÜ!Xã>ß\n",
      "%ºc%pß0ww0p7ºc\u0016×ßM0½º%\n",
      "ppß7ºïX%ß%X\u0017ßp\u0003>½XwÞ\n",
      "Text déchiffré SDES :# Texte extrait du livre \"Arsène Lupin, gentleman-cambrioleur\" de Maurice Leblanc\n",
      "# Source: le projet Gutenberg https://www.gutenberg.org/ebooks/32854\n",
      "\n",
      "Arsène Lupin parmi nous! l'insaisissable cambrioleur dont on racontait\n",
      "les prouesses dans tous les journaux depuis des mois! l'énigmatique\n",
      "personnage avec qui le vieux Ganimard, notre meilleur policier, avait\n",
      "engagé ce duel à mort dont les péripéties se déroulaient de façon si\n",
      "pittoresque! Arsène Lupin, le fantaisiste gentleman qui n'opère que\n",
      "dans les châteaux et les salons, et qui, une nuit, où il avait pénétré\n",
      "chez le baron Schormann, en était parti les mains vides et avait\n",
      "laissé sa carte, ornée de cette formule: «Arsène Lupin,\n",
      "gentleman-cambrioleur, reviendra quand les meubles seront\n",
      "authentiques». Arsène Lupin, l'homme aux mille déguisements: tour à\n",
      "tour chauffeur, ténor, bookmaker, fils de famille, adolescent,\n",
      "vieillard, commis-voyageur marseillais, médecin russe, torero\n",
      "espagnol!\n"
     ]
    }
   ],
   "source": [
    "#Chiffrement à partir d'un fichier texte pour chiffrement/dechiffrement SDES\n",
    "\n",
    "with open(\"./texte/arsene_lupin_extrait.txt\", \"r\") as file:\n",
    "        # Lire le contenu du fichier\n",
    "        Message_claire_TXT = file.read()\n",
    "Text_chiffre_SDES_TXT=chifrementSDES(Message_claire_TXT,clé1,clé2)\n",
    "\n",
    "print(\"Text chiffré SDES : \" + Text_chiffre_SDES_TXT)\n",
    "\n",
    "Text_dechiffre_SDES_TXT = dechifrementSDES(Text_chiffre_SDES_TXT,clé1,clé2)\n",
    "\n",
    "print(\"Text déchiffré SDES :\" + Text_dechiffre_SDES_TXT)"
   ]
  },
  {
   "cell_type": "code",
   "execution_count": 60,
   "metadata": {},
   "outputs": [],
   "source": [
    "import time\n",
    "\n",
    "def casse_brutal(message_clair, message_chiffre):\n",
    "    \"\"\"\n",
    "    Casse le chiffrement SDES en effectuant une recherche brutale sur toutes les clés possibles.\n",
    "\n",
    "    Args:\n",
    "        message_clair (str): Le texte clair original.\n",
    "        message_chiffre (str): Le texte chiffré à déchiffrer.\n",
    "\n",
    "    Returns:\n",
    "        Tuple[str, str] or None: Un tuple contenant les clés de déchiffrement au format binaire (key2, key1).\n",
    "        Retourne None si la clé n'est pas trouvée.\n",
    "    \"\"\"\n",
    "    cpt = 0\n",
    "    for key in range(1024):\n",
    "        key_binary = format(key, '010b')\n",
    "        for key2 in range(1024):\n",
    "            cpt += 1\n",
    "            key_binary2 = format(key2, '010b')\n",
    "            essai_dechiffre = dechifrementSDES(message_chiffre, int(key_binary2), int(key_binary))\n",
    "            if essai_dechiffre == message_clair:\n",
    "                return key_binary2, key_binary , cpt\n",
    "    print(\"Clé inconnue\")\n"
   ]
  },
  {
   "cell_type": "code",
   "execution_count": 61,
   "metadata": {},
   "outputs": [
    {
     "name": "stdout",
     "output_type": "stream",
     "text": [
      "Temps : 1.1742668151855469\n",
      "Clé trouvée : 0000000000 0000000011\n",
      "Nombre d'essais :  3073\n"
     ]
    }
   ],
   "source": [
    "#Cassage brutal SDES\n",
    "message_clair = \"hello\"\n",
    "cle1 = 0000000000\n",
    "cle2 = 11\n",
    "\n",
    "message_chiffre = chifrementSDES(message_clair, cle1, cle2)\n",
    "\n",
    "time1=time.time()\n",
    "cle_trouvee2 , cle_trouve ,cpt = casse_brutal(message_clair, message_chiffre)\n",
    "time2=time.time()\n",
    "\n",
    "print(\"Temps : \" +str(time2-time1))  \n",
    "print(\"Clé trouvée :\", cle_trouvee2 , cle_trouve)\n",
    "print(\"Nombre d'essais : \", cpt)\n",
    "\n"
   ]
  },
  {
   "cell_type": "code",
   "execution_count": 62,
   "metadata": {},
   "outputs": [
    {
     "name": "stdout",
     "output_type": "stream",
     "text": [
      "Temps : 149.77642273902893\n",
      "Clé trouvée : 0000000000 0000000011\n",
      "Nombre d'essais :  3073\n"
     ]
    }
   ],
   "source": [
    "#Chiffrement à partir d'un fichier texte pour cassage brutal SDES\n",
    "with open(\"./texte/arsene_lupin_extrait.txt\", \"r\") as file:\n",
    "        # Lire le contenu du fichier\n",
    "        Message_claire_TXT_AES = file.read()\n",
    "cle1 = 0000000000\n",
    "cle2 = 11\n",
    "\n",
    "message_chiffre = chifrementSDES(Message_claire_TXT_AES, cle1, cle2)\n",
    "\n",
    "time1=time.time()\n",
    "cle_trouvee2 , cle_trouve , cpt= casse_brutal(Message_claire_TXT_AES, message_chiffre)\n",
    "time2=time.time()\n",
    "\n",
    "print(\"Temps : \" +str(time2-time1))  \n",
    "print(\"Clé trouvée :\", cle_trouvee2 , cle_trouve)\n",
    "print(\"Nombre d'essais : \", cpt)\n"
   ]
  },
  {
   "cell_type": "code",
   "execution_count": 68,
   "metadata": {},
   "outputs": [],
   "source": [
    "def cassage_astucieux(message_clair, message_chiffre):\n",
    "    \"\"\"\n",
    "    Casse le chiffrement SDES de manière astucieuse en utilisant une table de correspondance.\n",
    "\n",
    "    Args:\n",
    "        message_clair (str): Le texte clair original.\n",
    "        message_chiffre (str): Le texte chiffré à déchiffrer.\n",
    "\n",
    "    Returns:\n",
    "        Tuple[str, str] or None: Un tuple contenant les clés de déchiffrement au format binaire (key1, key2).\n",
    "        Retourne None si la clé n'est pas trouvée.\n",
    "    \"\"\"\n",
    "    liste = {}\n",
    "    cpt = 0\n",
    "    \n",
    "    # Création d'une table de correspondance entre les textes clairs chiffrés avec différentes clés\n",
    "    for key in range(1024):\n",
    "        cpt += 1\n",
    "        key_binary = format(key, '010b')\n",
    "        liste[chiffrage(message_clair, int(key_binary))] = key_binary\n",
    "    \n",
    "    # Recherche de la clé de déchiffrement\n",
    "    for key2 in range(1024):\n",
    "        cpt += 1\n",
    "        key_binary2 = format(key2, '010b')\n",
    "        if dechiffrage(message_chiffre, int(key_binary2)) in liste:\n",
    "            return liste[dechiffrage(message_chiffre, int(key_binary2))], key_binary2 , cpt\n",
    "        \n",
    "    print(\"Clé inconnue\")\n"
   ]
  },
  {
   "cell_type": "code",
   "execution_count": 69,
   "metadata": {},
   "outputs": [
    {
     "name": "stdout",
     "output_type": "stream",
     "text": [
      "Temps : 0.1746828556060791\n",
      "Clé trouvée : 0000000000 0000000011\n",
      "Nombre d'essais :  1028\n"
     ]
    }
   ],
   "source": [
    "# Cassage astucieux SDES\n",
    "message_claire = \"Hello\"\n",
    "cle3 = 0000000000\n",
    "cle4 = 11\n",
    "\n",
    "message_chiffre_bis = chifrementSDES(message_claire, cle3, cle4)\n",
    "\n",
    "\n",
    "time1=time.time()\n",
    "cle_trouvee4 , cle_trouve3 , cpt = cassage_astucieux(message_claire, message_chiffre_bis)\n",
    "time2=time.time()\n",
    "print(\"Temps : \"+str(time2-time1))\n",
    "print(\"Clé trouvée :\", cle_trouvee4 , cle_trouve3)\n",
    "print(\"Nombre d'essais : \", cpt)\n"
   ]
  },
  {
   "cell_type": "code",
   "execution_count": 70,
   "metadata": {},
   "outputs": [
    {
     "name": "stdout",
     "output_type": "stream",
     "text": [
      "Temps : 25.480404138565063\n",
      "Clé trouvée : 0000000000 0000000011\n",
      "Nombre d'essais :  1028\n"
     ]
    }
   ],
   "source": [
    "#Chiffrement à partir d'un fichier texte\n",
    "message_chiffre = chifrementSDES(Message_claire_TXT_AES, cle1, cle2)\n",
    "\n",
    "time1=time.time()\n",
    "cle_trouvee4 , cle_trouve3 ,cpt  = cassage_astucieux(Message_claire_TXT_AES, message_chiffre)\n",
    "time2=time.time()\n",
    "\n",
    "print(\"Temps : \" +str(time2-time1))  \n",
    "print(\"Clé trouvée :\", cle_trouvee4 , cle_trouve3)\n",
    "print(\"Nombre d'essais : \", cpt)\n"
   ]
  },
  {
   "cell_type": "markdown",
   "metadata": {},
   "source": [
    "# Part 2:\n",
    "### Chiiffrement AES"
   ]
  },
  {
   "cell_type": "code",
   "execution_count": 71,
   "metadata": {},
   "outputs": [],
   "source": [
    "from Crypto.Cipher import AES\n",
    "from Crypto.Random import get_random_bytes\n",
    "\n",
    "def cryptageAES(data, clé):\n",
    "    \"\"\"\n",
    "    Chiffre les données en utilisant l'algorithme AES (Advanced Encryption Standard) en mode EAX.\n",
    "\n",
    "    Args:\n",
    "        data (str): Les données à chiffrer.\n",
    "        clé (bytes): La clé de chiffrement AES.\n",
    "\n",
    "    Returns:\n",
    "        Tuple[bytes, bytes]: Un tuple contenant le texte chiffré et le nonce utilisé pour le chiffrement.\n",
    "    \"\"\"\n",
    "    cryptage = AES.new(clé, AES.MODE_EAX)\n",
    "    data = data.encode(\"utf-8\")\n",
    "    text_crypté = cryptage.encrypt(data)\n",
    "    return text_crypté, cryptage.nonce\n"
   ]
  },
  {
   "cell_type": "code",
   "execution_count": 72,
   "metadata": {},
   "outputs": [],
   "source": [
    "def decryptageAES(text_crypté, clé, nonce):\n",
    "    \"\"\"\n",
    "    Déchiffre le texte chiffré en utilisant l'algorithme AES (Advanced Encryption Standard) en mode EAX.\n",
    "\n",
    "    Args:\n",
    "        text_crypté (bytes): Le texte chiffré à déchiffrer.\n",
    "        clé (bytes): La clé de déchiffrement AES.\n",
    "        nonce (bytes): Le nonce utilisé lors du chiffrement.\n",
    "\n",
    "    Returns:\n",
    "        str: Le texte déchiffré.\n",
    "    \"\"\"\n",
    "    decipher = AES.new(clé, AES.MODE_EAX, nonce=nonce)\n",
    "    text_decrypté = decipher.decrypt(text_crypté)\n",
    "    return text_decrypté.decode(\"utf-8\")\n"
   ]
  },
  {
   "cell_type": "code",
   "execution_count": 73,
   "metadata": {},
   "outputs": [
    {
     "name": "stdout",
     "output_type": "stream",
     "text": [
      "Text crypté AES : b\"\\x9a~\\xad\\x01\\xe3(*\\xfd\\xee'\\x9b\\xb4\"\n",
      "Text Décrypté AES : Hello world!\n"
     ]
    }
   ],
   "source": [
    "# Chiffrement dechiffrement SDES\n",
    "\n",
    "data = 'Hello world!'\n",
    "cléAES = get_random_bytes(32)\n",
    "\n",
    "#CryptageAES\n",
    "text_crypté,nonce = cryptageAES(data, cléAES)\n",
    "print(\"Text crypté AES :\", text_crypté)\n",
    "\n",
    "# DecryptageAES\n",
    "text_decrypté = decryptageAES(text_crypté, cléAES,nonce)\n",
    "print(\"Text Décrypté AES :\", text_decrypté)"
   ]
  },
  {
   "cell_type": "code",
   "execution_count": 74,
   "metadata": {},
   "outputs": [
    {
     "name": "stdout",
     "output_type": "stream",
     "text": [
      "Text crypté AES : b'\\xa1^\\x18O!\\x12{1\\xa7\\xd0\\xb7\\xee\\xaa\\xc0\\xee\\x97\\xe4\\x94\\xc5H\\x85S\\xc8\\x1b\\n4W\\x82\\xee\\x9f\\xbc\\xe36\\xafO\\xa1\\x0co\\xdbK|\\xbc(\\xd6\\xb8\\xbf\\xcb\\xa3\\xc1\\xb4?\\xf3\\x13\\x1d\\x90\\xb2H\\xee\\x8e1Yi\\x1cPn\\xd06\\xf2\\xb6d9\\xb9\\x1d\\xa6\\x03O\\xcb\\x8a\\xb5(m\\x0f\\xc7;\\xd7\\xaa\\xea\\x86\\xc2\\xe8\\xb9\\xb1u\\xbc\\xb4\\x83\\x9e|\\xd1g\\xc3\\xbb\\xa7\\xf2YZx\\xc3\\x0c\\x95_i\\x81\\x8e\\x00r+\\xdc\\xed\\xf7?_\\x9esl\\x0cme\\x8c\\x01\\xc9z\\xbfx\\x90\\xb2\\xf4\\x8a\\xbf\\xff\\xc2Y\\xfc\\xe8\\xf7C\\xe8\\x10R\\xef1\\x89\\xc1ll\\x98\\xdc\\xcf\\xf4\\x9c\\xb0~\\xa1\\xbd;\\xcb\\xdf \\xc3\\x12w\\xc3Mh\\xf0\\xc4\\x95\\xdchJ\\x85\\xc9G{\\x8cG\\x17\\x1f2n4E\\xf4\\xda\\x1a\\x84W\\xce\\x07vVY\\xe3\\x1a.\\xc2\\xffv\\xa9\\x18MpJ1\\xd6\\xadl\\xeb\\x81qs\\xb1\\x19\\x8bpD\\xa2\\xc3a\\xb4V;\\xcf\\x9c1\\xce^!\\xd2\\x07\\xc56\\x0e\\x0f\\xb5\\xc3\\xbc\\xce\\x01\\x88\\t\\x01\\x99\\xe71-\\xaaE\\xdf\\\\\\xe1\\xbfT\\x00\\xb7\\x08\\xaf\\xc1n\\xd8@\\xf7Z\\x1e\\x8b\\\\\\xe1\\xb9\\xc7\\xae\\xdeQ\\xec\\xc2\\xed\\xbe?e\\xff?\\xb9HU-AaWr0dS\\xe6\\xf9\\xd5\\xb1\\xb0\\xf7K]\\xf3\\x12\\x84\\xf2\\xc0\\xa2\\x8b\\xfb%m\\xfb\\t\\x0f\\x99#\\xdd?\\r\\x87\\xb6\\xbc\\xf4\\xa2\\xced\\x8a\\xc7\\x0e9\\x7f\\xe1\\xb1}\\xa4q+\\xc5)\\x90\\xfd\\x90r\\xf8X\\xdf\\xce\\x91{zFH(3\\xae\\xf9\\x83u\\xfa3 \\x9d\\x88\\x1d\\xca\\x141\\x1edd\\x86\\xb5\\xf7\\x1e\\xea\\xf9$\\xf9\\xf3\\x0cl\\x1d]znt\\xdfk]\\x99\\xa5A\\x7f\\xad\\x91h?\\xa7\\x9d\\xf3+\\xd3x\\x88Sr`\\x1d.C\\xcek\\x16\\xd2#\\x91\\xb1\\x9d\\xdf\\xfd\\xde2d\\xce\\x91\\xe8I\\x11x\\xd2d\\xd8\\xb1\\xdf\\xcch\\x08/\\xb9`e\\xbcn\\x11ZV\\x01c\\x9f\\x9a\\xe9\\xc2\\xce\\xe8\\x10$\\x9f\\x92\\x11a3\\xd7\\xbe/\\xe6<PJHU\\xa7\\xa1\\xac\\x10\\xe3\\x18P\\xb5M\\xf0&\\x0b\\x99\\xff\\xa3Y\\xb2\\x9eo\\xa1\\xb5xo \\xb1\\xf8\\x0f\\xdcS\\xc9\\xbd\\xf6\\xe6\\xe0\\xd8\\x87R\\xe7\\xac\\xf5\\xa7Q\\x00\\x04r\\xfc.\\x14\\xeco0\\xd6\\xe4\\x06u\\xdf\\x94}\\xb6\\xd6dD\\xb0@\\xc2\\x14c\\x12\\x04?\\xc3\\xc8i\\xf03~\\x89\\xf7\\xcaHV\\xe2\\xb6:g\\xe9Ay\\x11\\xf3<\\xb5i\\x91\\x96\\xc7E\\x11t\\x19\\x05\\x90\\x06\\x11\\x9f[4T\\x1e:>W{4^\\x8aaD\\x9c\\xcf3\\xc0\"\\xbd\\x924\\x9b\\xe5\\x81\\xa5 \\xa7\\x92\\xad+V\\xe1/\\xb1\\x145\\xf9E\\xd02\\x01\\xa8x\\x96\\xc1\\x8b)n\\x04\\x0f\\x94=\\xb5\\x15\\xd2\\x92\\xe7\\x14\\x99v\\xe2\\xec\\x89eE\\xa5]\\xd0L\\x157\\xccR\\xa0\\xe3\\x83\\x9f{\\xdc^\\xe3\\xcf\\xbe\\xca+=\\x92sOnq\\x9dkp\\xe5F\\xfb/\\xd0\\xf7\\x10]_\\xf4\\xddF\\xb3Y\\xc0\\x93c`\\xabypsZ\\xa4}BB\\x0b\\x1d@G3\\xaf\\x89\\xdc2\\xfe\\xb2\\x08h\\xd6\\xea\\x01\\xb4\\xe2\\xf6B\\xd9\\x93#\\xc2\\xd5\\x9e\\x9f\\x03&:wT5\\xa0\\x1f,\\x9b!C8\\xde\\x85s\\xcb\\xbc\\xe2\\xf03\\x05U/\\xd4\\x1e\\xda\\xaf\\x1f\\x9f\\\\\\xe9\\x067\\xc4r\\xa0q\\xa6\\xb9\\x85t\\x82Y3VlQ\\x88(\\x90\\x13\\xd9w\\xd0\\xe7Z\\xe75H\\xb4B\\x07\"\\x8d\\xca\\x14\\x14w/\\xfaH\\xbd\\xac\\x94\\'\\x95\\xbc\\xf7\\xed\\xc3\\xae\\x1a\\x8b\\xc5\\xfd\\x0eK\\x03\\x9e!\\x00@\\xcc\\xd9\\x83\\x16\\x06\\x07\\xec\\xd8J01\\xb78\\xbe\\xfdX76\\x8f\\x94\\x1d\\x08\\x01s\\x05\\x80ff_7%+\\xc0\\x91\\xcd\\xb2m\\x18\\xc7\\x15`\\x0f\\xa7j\\xe3k\\xfd\\xc8@[\\x03\\x08p@\\xad\\x02s\\xf0\\x96S])Z<k=\\xef\\xe9\\xba\\xc5U\\x07&\\xeeO\\x8a\\xc5\\xe2\\x0c\\xf9\\x0f\\xba\\xbdf\\xb8\\xa4\\x0fC\\x94\\x8c\\x08\\x05S\\x126\\xf3D\\xe1\\x9cH-Q\\x89\\x91\\x19#\\xeb\\xa2?4Z\\xcd\\x9d!5\\xa5QM\\x9f~+Hc\\xb4.\\x8cB\\x81\\x07\\xc9\\xdct\\x81\\x98\\xc9\\r\\x1d<\\x9b\\x10\\x86!\\xd7(\\\\W\"\\x8c\\x0e\\xd4t\\xe1V\\xd9'\n",
      "Text Décrypté AES : # Texte extrait du livre \"Arsène Lupin, gentleman-cambrioleur\" de Maurice Leblanc\n",
      "# Source: le projet Gutenberg https://www.gutenberg.org/ebooks/32854\n",
      "\n",
      "Arsène Lupin parmi nous! l'insaisissable cambrioleur dont on racontait\n",
      "les prouesses dans tous les journaux depuis des mois! l'énigmatique\n",
      "personnage avec qui le vieux Ganimard, notre meilleur policier, avait\n",
      "engagé ce duel à mort dont les péripéties se déroulaient de façon si\n",
      "pittoresque! Arsène Lupin, le fantaisiste gentleman qui n'opère que\n",
      "dans les châteaux et les salons, et qui, une nuit, où il avait pénétré\n",
      "chez le baron Schormann, en était parti les mains vides et avait\n",
      "laissé sa carte, ornée de cette formule: «Arsène Lupin,\n",
      "gentleman-cambrioleur, reviendra quand les meubles seront\n",
      "authentiques». Arsène Lupin, l'homme aux mille déguisements: tour à\n",
      "tour chauffeur, ténor, bookmaker, fils de famille, adolescent,\n",
      "vieillard, commis-voyageur marseillais, médecin russe, torero\n",
      "espagnol!\n"
     ]
    }
   ],
   "source": [
    "#Chiffrement à partir d'un fichier texte pour cassage brutal SDES\n",
    "with open(\"./texte/arsene_lupin_extrait.txt\", \"r\") as file:\n",
    "        # Lire le contenu du fichier\n",
    "        Message_claire_TXT_AES = file.read()\n",
    "cléAES = get_random_bytes(32)\n",
    "\n",
    "#CryptageAES\n",
    "text_crypté,nonce = cryptageAES(Message_claire_TXT_AES, cléAES)\n",
    "print(\"Text crypté AES :\", text_crypté)\n",
    "\n",
    "# DecryptageAES\n",
    "text_decrypté = decryptageAES(text_crypté, cléAES,nonce)\n",
    "print(\"Text Décrypté AES :\", text_decrypté)"
   ]
  },
  {
   "cell_type": "markdown",
   "metadata": {},
   "source": [
    "### Analyse Image :\n"
   ]
  },
  {
   "cell_type": "code",
   "execution_count": 75,
   "metadata": {},
   "outputs": [],
   "source": [
    "from PIL import Image\n",
    "\n",
    "def analyse_image(chemin):\n",
    "    \"\"\"\n",
    "    Analyse une image pour extraire une séquence binaire à partir des bits de poids faible.\n",
    "\n",
    "    Args:\n",
    "        chemin (str): Le chemin vers le fichier image.\n",
    "\n",
    "    Returns:\n",
    "        str: Une séquence binaire extraite des bits de poids faible de l'image, limitée aux 64 premiers bits.\n",
    "    \"\"\"\n",
    "    res = \"\"\n",
    "    img = Image.open(chemin)\n",
    "    for i in range(img.size[1]):\n",
    "        for j in range(img.size[0]):\n",
    "            valeur = img.getpixel((j, i))\n",
    "            if valeur % 2 == 0:\n",
    "                res += \"0\"\n",
    "            else:\n",
    "                res += \"1\"\n",
    "    \n",
    "    return res[:64]\n",
    "\n"
   ]
  },
  {
   "cell_type": "code",
   "execution_count": 76,
   "metadata": {},
   "outputs": [
    {
     "name": "stdout",
     "output_type": "stream",
     "text": [
      "Le clé caché est : 1110011101101101001100010011111110010010101110011001000001001100\n"
     ]
    }
   ],
   "source": [
    "resultat=analyse_image(\"./Image/rossignol2.bmp\")\n",
    "print(\"Le clé caché est : \" +resultat)\n"
   ]
  },
  {
   "cell_type": "markdown",
   "metadata": {},
   "source": [
    "# Partie 3 :\n",
    "## Analyse des messages"
   ]
  },
  {
   "cell_type": "code",
   "execution_count": 77,
   "metadata": {},
   "outputs": [],
   "source": [
    "from scapy.all import *\n",
    "from cryptography.hazmat.primitives.ciphers import Cipher, algorithms, modes\n",
    "from cryptography.hazmat.backends import default_backend\n",
    "from cryptography.hazmat.primitives import padding\n",
    "\n",
    "# Fonction pour décrypter un message chiffré AES-256 en mode CBC avec un remplissage PKCS7\n",
    "def decrypt_aes_cbc(texte_chiffre, cle, vecteur_initialisation):\n",
    "    \"\"\"\n",
    "    Décrypte un message chiffré en utilisant l'algorithme AES-256 en mode CBC avec un remplissage PKCS7.\n",
    "\n",
    "    Args:\n",
    "        texte_chiffre (bytes): Les données chiffrées à décrypter.\n",
    "        cle (bytes): La clé de chiffrement AES-256.\n",
    "        vecteur_initialisation (bytes): Le vecteur d'initialisation (IV) utilisé pour le mode CBC.\n",
    "\n",
    "    Returns:\n",
    "        bytes: Les données décryptées.\n",
    "    \"\"\"\n",
    "    chiffrer = Cipher(algorithms.AES(cle), modes.CBC(vecteur_initialisation), backend=default_backend())\n",
    "    decrypteur = chiffrer.decryptor()\n",
    "    pad = padding.PKCS7(128).unpadder()\n",
    "\n",
    "    donnees_dechiffrees = decrypteur.update(texte_chiffre) + decrypteur.finalize()\n",
    "    pad_data = pad.update(donnees_dechiffrees) + pad.finalize()\n",
    "\n",
    "    return pad_data\n",
    "\n",
    "\n",
    "\n",
    "def messageFinal(capture,cle,port):\n",
    "    \"\"\"\n",
    "    Décrypte et affiche les messages chiffrés contenus dans une capture réseau.\n",
    "\n",
    "    Args:\n",
    "        capture (scapy.plist.PacketList): La capture réseau à analyser.\n",
    "        cle (bytes): La clé de chiffrement utilisée pour le déchiffrement AES-256.\n",
    "        port (int): Le numéro de port UDP utilisé pour la communication.\n",
    "\n",
    "    Returns:\n",
    "        None\n",
    "    \"\"\"\n",
    "    for paquet in capture:\n",
    "        if UDP in paquet and paquet[UDP].dport == port:\n",
    "            # Extraire le vecteur d'initialisation et le message chiffré\n",
    "            vecteur_initialisation = paquet[Raw].load[:16]\n",
    "            texte_chiffre = paquet[Raw].load[16:]\n",
    "            message_dechiffre = decrypt_aes_cbc(texte_chiffre, cle, vecteur_initialisation)\n",
    "            print(message_dechiffre.decode('utf-8', errors='ignore'))\n"
   ]
  },
  {
   "cell_type": "code",
   "execution_count": 78,
   "metadata": {},
   "outputs": [
    {
     "name": "stdout",
     "output_type": "stream",
     "text": [
      "La crypto c'est trop bien!\n",
      "Je suis complètement d'accord!\n"
     ]
    }
   ],
   "source": [
    "# Charger le fichier de capture réseau\n",
    "capture = rdpcap('./analyse_trace/trace_sae.cap') \n",
    "\n",
    "# Répliquer la clé 4 fois pour obtenir la clé de 256 bits\n",
    "cle_complete = bytes([int(resultat[i:i+8], 2) for i in range(0, len(resultat), 8)]) * 4\n",
    "port = 9999\n",
    "\n",
    "messageFinal(capture,cle_complete,port)"
   ]
  }
 ],
 "metadata": {
  "kernelspec": {
   "display_name": "Python 3",
   "language": "python",
   "name": "python3"
  },
  "language_info": {
   "codemirror_mode": {
    "name": "ipython",
    "version": 3
   },
   "file_extension": ".py",
   "mimetype": "text/x-python",
   "name": "python",
   "nbconvert_exporter": "python",
   "pygments_lexer": "ipython3",
   "version": "3.10.12"
  }
 },
 "nbformat": 4,
 "nbformat_minor": 2
}
