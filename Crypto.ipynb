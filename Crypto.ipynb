{
 "cells": [
  {
   "cell_type": "markdown",
   "metadata": {},
   "source": [
    "# Partie 1 \n",
    "### Chiffrement SDES:"
   ]
  },
  {
   "cell_type": "code",
   "execution_count": 27,
   "metadata": {},
   "outputs": [],
   "source": [
    "from DES import *\n",
    "\n",
    "def chiffrage(message, cle):\n",
    "    message_chiffre = \"\"\n",
    "    for lettre in message:\n",
    "        message_chiffre += chr(encrypt(cle, ord(lettre)))\n",
    "    return message_chiffre\n",
    "\n",
    "def dechiffrage(message_chiffre, cle):\n",
    "    message_clair = \"\"\n",
    "    for lettre in message_chiffre:\n",
    "        message_clair += chr(decrypt(cle, ord(lettre)))\n",
    "    return message_clair"
   ]
  },
  {
   "cell_type": "code",
   "execution_count": 28,
   "metadata": {},
   "outputs": [],
   "source": [
    "def chifrementSDES(text,cle1,cle2):\n",
    "    cryp1=[]\n",
    "    cryp2=[]\n",
    "    motD=\"\"\n",
    "    for n in text:\n",
    "        cryp1.append(encrypt(cle1,ord(n)))\n",
    "    for n in cryp1:\n",
    "        cryp2.append(encrypt(cle2,n))\n",
    "    for n in cryp2:\n",
    "        motD+=chr(n)\n",
    "    return motD"
   ]
  },
  {
   "cell_type": "code",
   "execution_count": 29,
   "metadata": {},
   "outputs": [],
   "source": [
    "def dechifrementSDES(text,cle1,cle2):\n",
    "    decrypt1=[]\n",
    "    decrypt2=[]\n",
    "    for n in text:\n",
    "        decrypt1.append(decrypt(cle2,ord(n)))\n",
    "    for n in decrypt1:\n",
    "        decrypt2.append(decrypt(cle1,n))\n",
    "    motD=\"\"\n",
    "    for n in decrypt2:\n",
    "        motD+=chr(n)\n",
    "    return motD"
   ]
  },
  {
   "cell_type": "code",
   "execution_count": 30,
   "metadata": {},
   "outputs": [
    {
     "name": "stdout",
     "output_type": "stream",
     "text": [
      "Text chiffré SDES : :ôXX)\n",
      "Text déchiffré SDES :Hello\n"
     ]
    }
   ],
   "source": [
    "# Chiffrement dechiffrement SDES\n",
    "clé1 = 0000000000\n",
    "clé2 = 1010101110\n",
    "Message_claire = \"Hello\"\n",
    "Text_chiffre_SDES=chifrementSDES(Message_claire,clé1,clé2)\n",
    "\n",
    "print(\"Text chiffré SDES : \" + Text_chiffre_SDES)\n",
    "\n",
    "Text_dechiffre_SDES = dechifrementSDES(Text_chiffre_SDES,clé1,clé2)\n",
    "\n",
    "print(\"Text déchiffré SDES :\" + Text_dechiffre_SDES)"
   ]
  },
  {
   "cell_type": "code",
   "execution_count": 47,
   "metadata": {},
   "outputs": [
    {
     "name": "stdout",
     "output_type": "stream",
     "text": [
      "Text chiffré SDES : q¹ýô¾àôæô¾à\n",
      "\u001d½àæ¢æX½\n",
      "ôæ@=\n",
      ">ôæA²îæ³àXôT_z\u001dTþ\n",
      "½)Xô\n",
      "@æ¢ôæ\u001d\n",
      "½zôæAôþXz~qæG)\n",
      "zô\u0018æXôæ²\n",
      ")\u001eôàæ!àþô\n",
      "³æªàà²>\u001833EEEZ³àþô\n",
      "³Z)\n",
      "³3ôþ))w>3'Ô\u0000aö~~=\n",
      ">ôæA²æ²\u001d\n",
      "T½)>6æX>\u001d½>½>>\u001dþXôæz\u001dTþ\n",
      "½)Xô\n",
      "æ¢àææ\n",
      "\u001dzà\u001d½à~Xô>æ²\n",
      ")ô>>ô>æ¢>æà)>æXô>æ\u001e)\n",
      "\b\u001d¾æ¢ô²½>æ¢ô>æT)½>6æX½³T\u001dà½%ô~²ô\n",
      "\u001d³ôæ\u001dôzæ%½æXôæ½ô¾æ!½T\u001d\n",
      "¢î)à\n",
      "ôæTô½XXô\n",
      "æ²)X½z½ô\n",
      "îæ\u001d\u001d½à~³\u001d³µæzôæ¢ôXææT)\n",
      "àæ¢àæXô>æ²µ\n",
      "½²µà½ô>æ>ôæ¢µ\n",
      ")X\u001d½àæ¢ôæ\u0004\u001dæ>½~²½àà)\n",
      "ô>%ô6æ=\n",
      ">ôæA²îæXôæ\u0004à\u001d½>½>àôæ³àXôTæ%½)²d\n",
      "ôæ%ô~¢>æXô>æzªÖàô\u001d¾æôàæXô>æ>\u001dX>îæôàæ%½îæô½àîæ)æ½Xæ\u001d\u001d½àæ²µà\n",
      "µ~zªô®æXôæþ\u001d\n",
      "æGzª)\n",
      "îææµà\u001d½àæ²\u001d\n",
      "à½æXô>æT\u001d>æ½¢ô>æôàæ\u001d\u001d½à~X\u001d½>>µæ>\u001dæz\u001d\n",
      "àôîæ)\n",
      "\bµôæ¢ôæzôààôæ\u0004)\n",
      "TXô\u0018æÒ=\n",
      ">ôæA²î~³àXôT_z\u001dTþ\n",
      "½)Xô\n",
      "îæ\n",
      "ô½¢\n",
      "\u001dæ%¢æXô>æTôþXô>æ>ô\n",
      "à~\u001dàªà½%ô>Zæ=\n",
      ">ôæA²îæXª)TTôæ\u001d¾æT½XXôæ¢µ³½>ôTà>\u0018æà)\n",
      "æ~à)\n",
      "æzª\u001d\u0004\u0004ô\n",
      "îæà)\n",
      "îæþ))wT\u001dwô\n",
      "îæ\u0004½X>æ¢ôæ\u0004\u001dT½XXôîæ\u001d¢)Xô>zàî~½ô½XX\u001d\n",
      "¢îæz)TT½>_)\u001d³ô\n",
      "æT\u001d\n",
      ">ô½XX\u001d½>îæTµ¢ôzæ\n",
      ">>ôîæà)\n",
      "ô\n",
      ")~ô>²\u001d)X6\n",
      "Text déchiffré SDES :# Texte extrait du livre \"Arsène Lupin, gentleman-cambrioleur\" de Maurice Leblanc\n",
      "# Source: le projet Gutenberg https://www.gutenberg.org/ebooks/32854\n",
      "\n",
      "Arsène Lupin parmi nous! l'insaisissable cambrioleur dont on racontait\n",
      "les prouesses dans tous les journaux depuis des mois! l'énigmatique\n",
      "personnage avec qui le vieux Ganimard, notre meilleur policier, avait\n",
      "engagé ce duel à mort dont les péripéties se déroulaient de façon si\n",
      "pittoresque! Arsène Lupin, le fantaisiste gentleman qui n'opère que\n",
      "dans les châteaux et les salons, et qui, une nuit, où il avait pénétré\n",
      "chez le baron Schormann, en était parti les mains vides et avait\n",
      "laissé sa carte, ornée de cette formule: «Arsène Lupin,\n",
      "gentleman-cambrioleur, reviendra quand les meubles seront\n",
      "authentiques». Arsène Lupin, l'homme aux mille déguisements: tour à\n",
      "tour chauffeur, ténor, bookmaker, fils de famille, adolescent,\n",
      "vieillard, commis-voyageur marseillais, médecin russe, torero\n",
      "espagnol!\n"
     ]
    }
   ],
   "source": [
    "#Chiffrement à partir d'un fichier texte pour chiffrement/dechiffrement SDES\n",
    "\n",
    "with open(\"arsene_lupin_extrait.txt\", \"r\") as file:\n",
    "        # Lire le contenu du fichier\n",
    "        Message_claire_TXT = file.read()\n",
    "Text_chiffre_SDES_TXT=chifrementSDES(Message_claire_TXT,clé1,clé2)\n",
    "\n",
    "print(\"Text chiffré SDES : \" + Text_chiffre_SDES_TXT)\n",
    "\n",
    "Text_dechiffre_SDES_TXT = dechifrementSDES(Text_chiffre_SDES_TXT,clé1,clé2)\n",
    "\n",
    "print(\"Text déchiffré SDES :\" + Text_dechiffre_SDES_TXT)"
   ]
  },
  {
   "cell_type": "code",
   "execution_count": 31,
   "metadata": {},
   "outputs": [],
   "source": [
    "import time\n",
    "\n",
    "def casse_brutal(message_clair, message_chiffre):\n",
    "    cpt=0\n",
    "    for key in range(1024):\n",
    "        key_binary = format(key, '010b')\n",
    "        for key2 in range(1024):\n",
    "            cpt+=1\n",
    "            key_binary2 = format(key2, '010b')\n",
    "            essai_dechiffre = dechifrementSDES(message_chiffre, int(key_binary2),int(key_binary))\n",
    "            if essai_dechiffre == message_clair:\n",
    "                return key_binary2 , key_binary\n",
    "    print(\"Clé inconnue\")"
   ]
  },
  {
   "cell_type": "code",
   "execution_count": 32,
   "metadata": {},
   "outputs": [
    {
     "name": "stdout",
     "output_type": "stream",
     "text": [
      "Temps : 12.04398250579834\n",
      "Clé trouvée : 0000000000 0000111110\n"
     ]
    }
   ],
   "source": [
    "#Cassage brutal SDES\n",
    "message_clair = \"hello\"\n",
    "cle1 = 0000000000\n",
    "cle2 = 111110\n",
    "\n",
    "message_chiffre = chifrementSDES(message_clair, cle1, cle2)\n",
    "\n",
    "time1=time.time()\n",
    "cle_trouvee2 , cle_trouve = casse_brutal(message_clair, message_chiffre)\n",
    "time2=time.time()\n",
    "\n",
    "print(\"Temps : \" +str(time2-time1))  \n",
    "print(\"Clé trouvée :\", cle_trouvee2 , cle_trouve)\n",
    "\n"
   ]
  },
  {
   "cell_type": "code",
   "execution_count": 50,
   "metadata": {},
   "outputs": [
    {
     "name": "stdout",
     "output_type": "stream",
     "text": [
      "Temps : 35.680580139160156\n",
      "Clé trouvée : 0000000000 0000000001\n"
     ]
    }
   ],
   "source": [
    "#Chiffrement à partir d'un fichier texte pour cassage brutal SDES\n",
    "with open(\"arsene_lupin_extrait.txt\", \"r\") as file:\n",
    "        # Lire le contenu du fichier\n",
    "        Message_claire_TXT_AES = file.read()\n",
    "cle1 = 0000000000\n",
    "cle2 = 1\n",
    "\n",
    "message_chiffre = chifrementSDES(Message_claire_TXT_AES, cle1, cle2)\n",
    "\n",
    "time1=time.time()\n",
    "cle_trouvee2 , cle_trouve = casse_brutal(Message_claire_TXT_AES, message_chiffre)\n",
    "time2=time.time()\n",
    "\n",
    "print(\"Temps : \" +str(time2-time1))  \n",
    "print(\"Clé trouvée :\", cle_trouvee2 , cle_trouve)"
   ]
  },
  {
   "cell_type": "code",
   "execution_count": 33,
   "metadata": {},
   "outputs": [],
   "source": [
    "def cassage_astucieux(message_clair, message_chiffre):\n",
    "    liste = {}\n",
    "    cpt=0\n",
    "    for key in range(1024):\n",
    "        cpt+=1\n",
    "        key_binary = format(key, '010b')\n",
    "        liste[chiffrage(message_clair, int(key_binary))] = key_binary\n",
    "    for key2 in range(1024):\n",
    "        cpt+=1\n",
    "        key_binary2 = format(key2, '010b')\n",
    "        if dechiffrage(message_chiffre, int(key_binary2)) in liste:\n",
    "            return liste[dechiffrage(message_chiffre, int(key_binary2))],key_binary2\n",
    "        \n",
    "    print(\"Clé inconnue\")"
   ]
  },
  {
   "cell_type": "code",
   "execution_count": 34,
   "metadata": {},
   "outputs": [
    {
     "name": "stdout",
     "output_type": "stream",
     "text": [
      "Temps : 0.1098625659942627\n",
      "Clé trouvée : 0000000000 0000111110\n"
     ]
    }
   ],
   "source": [
    "# Cassage astucieux SDES\n",
    "time1=time.time()\n",
    "cle_trouvee4 , cle_trouve3 = cassage_astucieux(message_clair, message_chiffre)\n",
    "time2=time.time()\n",
    "print(\"Temps : \"+str(time2-time1))\n",
    "print(\"Clé trouvée :\", cle_trouvee4 , cle_trouve3)"
   ]
  },
  {
   "cell_type": "code",
   "execution_count": 51,
   "metadata": {},
   "outputs": [
    {
     "name": "stdout",
     "output_type": "stream",
     "text": [
      "Temps : 17.940959930419922\n",
      "Clé trouvée : 0000000000 0000000001\n"
     ]
    }
   ],
   "source": [
    "#Chiffrement à partir d'un fichier texte\n",
    "message_chiffre = chifrementSDES(Message_claire_TXT_AES, cle1, cle2)\n",
    "\n",
    "time1=time.time()\n",
    "cle_trouvee4 , cle_trouve3 = cassage_astucieux(Message_claire_TXT_AES, message_chiffre)\n",
    "time2=time.time()\n",
    "\n",
    "print(\"Temps : \" +str(time2-time1))  \n",
    "print(\"Clé trouvée :\", cle_trouvee4 , cle_trouve3)"
   ]
  },
  {
   "cell_type": "markdown",
   "metadata": {},
   "source": [
    "# Part 2:\n",
    "### Chiiffrement AES"
   ]
  },
  {
   "cell_type": "code",
   "execution_count": 35,
   "metadata": {},
   "outputs": [],
   "source": [
    "from Crypto.Cipher import AES\n",
    "from Crypto.Random import get_random_bytes\n",
    "\n",
    "def cryptageAES(data, clé):\n",
    "    cryptage = AES.new(clé, AES.MODE_EAX)\n",
    "    data =  data.encode(\"utf-8\")\n",
    "    text_crypté = cryptage.encrypt(data)\n",
    "    return text_crypté, cryptage.nonce"
   ]
  },
  {
   "cell_type": "code",
   "execution_count": 36,
   "metadata": {},
   "outputs": [],
   "source": [
    "def decryptageAES(text_crypté, clé,nonce):\n",
    "    decipher = AES.new(clé, AES.MODE_EAX, nonce=nonce)\n",
    "    text_decrypté = decipher.decrypt(text_crypté)\n",
    "    return text_decrypté.decode(\"utf-8\")"
   ]
  },
  {
   "cell_type": "code",
   "execution_count": 37,
   "metadata": {},
   "outputs": [
    {
     "name": "stdout",
     "output_type": "stream",
     "text": [
      "Text crypté AES : b'\\xed\\x96s\\x1b\\x92\\xcd.\\x04\\x90\\x84M\\xd4'\n",
      "Text Décrypté AES : Hello world!\n"
     ]
    }
   ],
   "source": [
    "# Chiffrement dechiffrement SDES\n",
    "\n",
    "data = 'Hello world!'\n",
    "cléAES = get_random_bytes(32)\n",
    "\n",
    "#CryptageAES\n",
    "text_crypté,nonce = cryptageAES(data, cléAES)\n",
    "print(\"Text crypté AES :\", text_crypté)\n",
    "\n",
    "# DecryptageAES\n",
    "text_decrypté = decryptageAES(text_crypté, cléAES,nonce)\n",
    "print(\"Text Décrypté AES :\", text_decrypté)"
   ]
  },
  {
   "cell_type": "code",
   "execution_count": 52,
   "metadata": {},
   "outputs": [
    {
     "name": "stdout",
     "output_type": "stream",
     "text": [
      "Text crypté AES : b'\\x1b/\\xaf\\xd7\\xeask\\xd7\\xdb\\x89\\xf6\\xd8\\x05\\t\\xdb*\\xd3\\xff\\x95!\\xc7G\\x1af\\xf5#(\\x81\\xfea\\x0e\\x96\\xd5\\x03\\xf1\\xfa\\xb1\\x03\\xc2j\\x82xB\\xba\\x93\\xf0_\\n\\xc0-\\xf0\\x83F\\xeb\\xe7\\x17C\\xb2C\\xee\\xceH\\xecM\\x983{\\xe2\\xad\\xff\\x93\\xff\\xb7\\xbe\\x80<u\\xa7\\xc1\\xf8\\x87\\xb2;27\\xc9Exf0z\\xc2A\\xbfB\\xd3e\\'5\\x9d3\\x05\\r\\x0eRZ\\x19\\xf2K\\x8a\\xbe\\xea\\x85(/\\xf2\\x8e\\xf7\\xcc4\\xfd\\x86\\xb0jO\\xbf\\x9fW/\\xa8\\x8d\\xf5\\xeaA\\x8e\\xb7\\x93\\xe3\\xae\\'\\xffJ\\xf8\"s\\xad\\xf7%\\xf6Z\\xec\\xa5\\xe5\\x86M[\\xea\\xca\\xd3\\x95\\xd0{\\xb1\\xf7;D\\x83\\xfc\\xfe\\x91!\\x8a#&\\xe01\\xd9$X6\\x1bo&\\x99\\x8b\\x82\\xb7j\\xd7K\\xeb\\xe9\\xa35\\x08\\x8eF\\xdb\\x9a\\x0c^%\\xc0\\xbc\\x8c\\x05A\\x1e\\x99\\n8\\xeb\\x11\\r\\'.\\xcf\\xe2\\x07O\\x02\\xbe\\x04w\\xff\\x94;\\x08\\xab\\xb6\\x03\\x95)\\xa2\\xe6`;.\\x0fo\\xe8\\xf4\\xbf]\\xf3\\x01\\xc8\\xe4\\x91+\\xf6\\xed\\xba\\xdf{\\x04\\x8e\\xbcZQ\\x84~e\\xf6\\xe73%\\x8a6u\\xf4F\\x97G\\xe1\\x91\\xfa\\xdb\\xdc+z\\xac8\\xaa\\xf7\\x8a\\xe2\\x8a\\xd0cw:\\xaar V\\xe8\\xd7\\x953\\xc4!E\\x82\\x07\\x1ak\\xc3\\xeb\\xec8\\x95\\x94\\xc3,;g=\\x85aI\\xe8\\xd9x\\x7fhx\\x89\\x90!j{\\xa1Y\\n\\xa6\\x80N\\xc5\\xce\\xba\\x91\\xf1\\xf2e\\xef\\xf8\\x98\\x7fC`qOP\\xfb./\\x8f\\x97n\\x1a\\x00\\xa1\\xc72\\x02r)\\xf4N\\x8a\\r1\\x00@\\x1b\\xec\\xd1=\\x18\\x9c\\x9f\\xba\\xea\\x81|\\x92\\x05M\\x18\\xf3\\x9a<\\xcb\\xfc}m\\xb4 \\xf7\\x8b>\\x97\\x14lm\\x9d\\xf2\\x16\\xea\\xe65>\\t?\\xc7\\xb6\\xe6\\xccm *lL\\xca\\x82\\x1c\\xadu\\xcd\\xd2\\xe9\\xb5\\x0c\\xb5\\xb82\\x01j\\xdb\\x99\\xbb0(\\xd5\\xc41\\x12\\x85V\\xb3<\\x87\\xc2Y\\xa4\\x9b\\xf2\\x10\\xb9V \\xc8Q\\xb8\\xa1\\xa5\\'W\\x1bg{\\xd5\\xe4\\x8c\\x90v\\xf2p\\xac\\xae\"\\xe9<\\xadM\\xb9\\x99\\x10\\x94\\x0b\\xe5\\x1ee\\xfazu\\xe0\\xc4\\x98sXm~\\x89\\x15b\\xb2Z\\x937\\xaa_]\\x8e\\xa6\\xacu:\\x13A\\xd8\\'\\x9d\\xefMJPz\\xa7m\\x9e\\x95Km.\\x11\\x01\\xd0\\x1cf\\xc9\\xe9\\x8bJ\\xf0s]\\xe8L\\xbb\\x99\\xa8\\xc0\\xc8\\xb6\\xff\\x94\\xd5\\x9e0\\'\"\\xc3\\x94\\xab:\\x13\\xc6\\xefM\\xa3\\xa5\\x88\\x82V\\xb7\\xec\\xef\\x8d\\xef\\xb4\\xc0\\xd0\\x05\\x9e7\\xdf~m\\xaa\\xc0\\x98\\xb7w\\x1c\\x036\\x16q\\x06o\\xad+\\x9bm\\xbe\\xe5\\xee\\xf2\\nL\\xa86o\\xd8T\\x12d\\xe7\\x1b\\n\\xdb:Er\\xab\\x9b\\xdao5\\x08];\\xe0\\x92\\x8bV\\x90\\xccG\\xe5\\x1c\\xa6\\xfb:\\xdaz\\xf3\\xcdh\\xd7ye\\x19U\\xc2p.\\xe8\\xa2r\\x8c0(\\xbcin\\x84\\xd3\\x80\\xbcg\\x0b\\xad\\x94\\xc6A&\\x14\\x0e\\x13\\x13\\x07\\xd0\\xa3\\xce\\xeb\\xa8\\x80tO\\xf8\\x17\\x83D\\x8c\\xf2\\xdc\\x8e0J\\x04\\xf0\\x97\\x89l\\xc1\\xc3n(\\xbei\\xfc\\xfa\\xd3\\x16\\xc7\\x98\\x11\\xc7\\x1e\\x89]\\xc3\\x9f7\\x95\\xc1\\xc0\\x06\\x97!\\xbc\\xd6B\\x96\\xb6\\xe9\\xd9>\\xdd\\xce[f\\x93\\xdb\\x85oL\\x04\\xfa\\x01kqJQR\\xf1>Kc\\x02\\xefP\\xcb\\xa6\\t\\xc1\\xb97y\\x82\\xf9]\\xb0\\x7f\\x99\\x85\\x14\\x95\\xb4;\\xcadO\\xaf\\xf0\\xee\\xfc\\x82\\xe6y_\\x84\\x7f<\\x91)\\xc1;\\x8a\\x84\\xdd9*t3R\\xda>\\nl7iD\\x0bCyTu\\xeb~&phX\\x89\\xb7\\xe7\\x90_b\\x0b\\x91\\x7fmV\\x10\\xefN\\xa0*g\\xc1\\x0c[\\xe4g\\x0b\\xd6\\xfe\\xffF_\\xd5T\\x96\\xe4\\\\\\xfc\\x1a\\x06\\x15\\x0c !\\xcb\\xb3NU\\x02c\\xc0\\x9eQ>\\xad1}XCv+\\xfe\\x0f\\x86\\xd3\\xd6U\\x1ao;\\xea\\x9b~\\xa4}\\xc9\\r\\xf5\\x9c\\xbadw\\xbc\\xe6\\xa4\\xdb\\xb6\"\\'\\x0e\\xaal\\x81\\x16Z\\xda\\x1d\\xca\\'L\\x03 \\xdb\\xf1s\\x08Jf\\x0f\\xe1S\\xeb\\xc7\\xb0z6&B\\xd0\\xc5\\x10\\xf0<\\xe2\\xcd\\xdb\\xbb |\\x83\\x02\\x7fAC\\xfd\\xf1\\x87@5\\x15\\xf7\\x89\\x02\\xe9A\\x84|}<\\xa5s\\x95\\x95Ex'\n",
      "Text Décrypté AES : # Texte extrait du livre \"Arsène Lupin, gentleman-cambrioleur\" de Maurice Leblanc\n",
      "# Source: le projet Gutenberg https://www.gutenberg.org/ebooks/32854\n",
      "\n",
      "Arsène Lupin parmi nous! l'insaisissable cambrioleur dont on racontait\n",
      "les prouesses dans tous les journaux depuis des mois! l'énigmatique\n",
      "personnage avec qui le vieux Ganimard, notre meilleur policier, avait\n",
      "engagé ce duel à mort dont les péripéties se déroulaient de façon si\n",
      "pittoresque! Arsène Lupin, le fantaisiste gentleman qui n'opère que\n",
      "dans les châteaux et les salons, et qui, une nuit, où il avait pénétré\n",
      "chez le baron Schormann, en était parti les mains vides et avait\n",
      "laissé sa carte, ornée de cette formule: «Arsène Lupin,\n",
      "gentleman-cambrioleur, reviendra quand les meubles seront\n",
      "authentiques». Arsène Lupin, l'homme aux mille déguisements: tour à\n",
      "tour chauffeur, ténor, bookmaker, fils de famille, adolescent,\n",
      "vieillard, commis-voyageur marseillais, médecin russe, torero\n",
      "espagnol!\n"
     ]
    }
   ],
   "source": [
    "#Chiffrement à partir d'un fichier texte pour cassage brutal SDES\n",
    "with open(\"arsene_lupin_extrait.txt\", \"r\") as file:\n",
    "        # Lire le contenu du fichier\n",
    "        Message_claire_TXT_AES = file.read()\n",
    "cléAES = get_random_bytes(32)\n",
    "\n",
    "#CryptageAES\n",
    "text_crypté,nonce = cryptageAES(Message_claire_TXT_AES, cléAES)\n",
    "print(\"Text crypté AES :\", text_crypté)\n",
    "\n",
    "# DecryptageAES\n",
    "text_decrypté = decryptageAES(text_crypté, cléAES,nonce)\n",
    "print(\"Text Décrypté AES :\", text_decrypté)"
   ]
  },
  {
   "cell_type": "markdown",
   "metadata": {},
   "source": [
    "### Analyse Image :\n"
   ]
  },
  {
   "cell_type": "code",
   "execution_count": 40,
   "metadata": {},
   "outputs": [],
   "source": [
    "from PIL import Image\n",
    "\n",
    "def binaire_to_hexa(binaire):\n",
    "    decimal=int(binaire,2)\n",
    "    hexa=hex(decimal)[2:]\n",
    "    return hexa.upper()\n",
    "def analyse_image(chemin):\n",
    "    res=\"\"\n",
    "    img= Image.open(chemin)\n",
    "    for i in range(img.size[1]):\n",
    "        for j in range(img.size[0]):\n",
    "            valeur=img.getpixel((j,i))\n",
    "            if valeur%2==0:\n",
    "                res+=\"0\"\n",
    "            else: \n",
    "                res+=\"1\"\n",
    "    resultat = binaire_to_hexa(res[:64])\n",
    "    return resultat\n",
    "\n"
   ]
  },
  {
   "cell_type": "code",
   "execution_count": 42,
   "metadata": {},
   "outputs": [
    {
     "name": "stdout",
     "output_type": "stream",
     "text": [
      "Le clé caché est : E76D313F92B9904C\n"
     ]
    }
   ],
   "source": [
    "resultat=analyse_image(\"rossignol2.bmp\")\n",
    "print(\"Le clé caché est : \" +resultat)\n"
   ]
  }
 ],
 "metadata": {
  "kernelspec": {
   "display_name": "Python 3",
   "language": "python",
   "name": "python3"
  },
  "language_info": {
   "codemirror_mode": {
    "name": "ipython",
    "version": 3
   },
   "file_extension": ".py",
   "mimetype": "text/x-python",
   "name": "python",
   "nbconvert_exporter": "python",
   "pygments_lexer": "ipython3",
   "version": "3.10.12"
  }
 },
 "nbformat": 4,
 "nbformat_minor": 2
}
