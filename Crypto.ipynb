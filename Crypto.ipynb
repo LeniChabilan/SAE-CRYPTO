{
 "cells": [
  {
   "cell_type": "markdown",
   "metadata": {},
   "source": [
    "# Partie 1 \n",
    "### Chiffrement SDES:"
   ]
  },
  {
   "cell_type": "code",
   "execution_count": 1,
   "metadata": {},
   "outputs": [],
   "source": [
    "from DES import *\n",
    "\n",
    "def chiffrage(message, cle):\n",
    "    \"\"\"\n",
    "    Chiffre le message en utilisant l'algorithme DES.\n",
    "\n",
    "    Args:\n",
    "        message (str): Le message à chiffrer.\n",
    "        cle (str): La clé de chiffrement.\n",
    "\n",
    "    Returns:\n",
    "        str: Le message chiffré.\n",
    "    \"\"\"\n",
    "    message_chiffre = \"\"\n",
    "    for lettre in message:\n",
    "        message_chiffre += chr(encrypt(cle, ord(lettre)))\n",
    "    return message_chiffre\n",
    "\n",
    "\n",
    "def dechiffrage(message_chiffre, cle):\n",
    "    \"\"\"\n",
    "    Déchiffre le message chiffré en utilisant l'algorithme DES.\n",
    "\n",
    "    Args:\n",
    "        message_chiffre (str): Le message chiffré.\n",
    "        cle (str): La clé de déchiffrement.\n",
    "\n",
    "    Returns:\n",
    "        str: Le message déchiffré.\n",
    "    \"\"\"\n",
    "    message_clair = \"\"\n",
    "    for lettre in message_chiffre:\n",
    "        message_clair += chr(decrypt(cle, ord(lettre)))\n",
    "    return message_clair\n"
   ]
  },
  {
   "cell_type": "code",
   "execution_count": 2,
   "metadata": {},
   "outputs": [],
   "source": [
    "def chiffrementSDES(text, cle1, cle2):\n",
    "    \"\"\"\n",
    "    Chiffre le texte en utilisant l'algorithme Simplified Data Encryption Standard (SDES).\n",
    "\n",
    "    Args:\n",
    "        text (str): Le texte à chiffrer.\n",
    "        cle1 (str): La première clé de chiffrement pour SDES.\n",
    "        cle2 (str): La deuxième clé de chiffrement pour SDES.\n",
    "\n",
    "    Returns:\n",
    "        str: Le texte chiffré à l'aide de SDES.\n",
    "    \"\"\"\n",
    "    cryp1 = []\n",
    "    cryp2 = []\n",
    "    mot_chiffre = \"\"\n",
    "    \n",
    "    # Chiffrement avec la première clé\n",
    "    for char in text:\n",
    "        cryp1.append(encrypt(cle1, ord(char)))\n",
    "    \n",
    "    # Chiffrement avec la deuxième clé\n",
    "    for char in cryp1:\n",
    "        cryp2.append(encrypt(cle2, char))\n",
    "    \n",
    "    # Conversion des résultats chiffrés en caractères\n",
    "    for char in cryp2:\n",
    "        mot_chiffre += chr(char)\n",
    "    \n",
    "    return mot_chiffre\n"
   ]
  },
  {
   "cell_type": "code",
   "execution_count": 3,
   "metadata": {},
   "outputs": [],
   "source": [
    "def dechiffrementSDES(text, cle1, cle2):\n",
    "    \"\"\"\n",
    "    Déchiffre le texte chiffré à l'aide de l'algorithme Simplified Data Encryption Standard (SDES).\n",
    "\n",
    "    Args:\n",
    "        text (str): Le texte chiffré à déchiffrer.\n",
    "        cle1 (str): La première clé de chiffrement utilisée pour le déchiffrement SDES.\n",
    "        cle2 (str): La deuxième clé de chiffrement utilisée pour le déchiffrement SDES.\n",
    "\n",
    "    Returns:\n",
    "        str: Le texte déchiffré à l'aide de SDES.\n",
    "    \"\"\"\n",
    "    decrypt1 = []\n",
    "    decrypt2 = []\n",
    "    \n",
    "    # Déchiffrement avec la deuxième clé\n",
    "    for char in text:\n",
    "        decrypt1.append(decrypt(cle2, ord(char)))\n",
    "    \n",
    "    # Déchiffrement avec la première clé\n",
    "    for char in decrypt1:\n",
    "        decrypt2.append(decrypt(cle1, char))\n",
    "    \n",
    "    # Conversion des résultats déchiffrés en caractères\n",
    "    mot_dechiffre = \"\"\n",
    "    for char in decrypt2:\n",
    "        mot_dechiffre += chr(char)\n",
    "    \n",
    "    return mot_dechiffre\n"
   ]
  },
  {
   "cell_type": "code",
   "execution_count": 4,
   "metadata": {},
   "outputs": [
    {
     "name": "stdout",
     "output_type": "stream",
     "text": [
      "Text chiffré SDES : ßwwX\n",
      "Text déchiffré SDES :Hello\n"
     ]
    }
   ],
   "source": [
    "# Chiffrement dechiffrement SDES\n",
    "clé1 = 0000000000\n",
    "clé2 = 11\n",
    "Message_claire = \"Hello\"\n",
    "Text_chiffre_SDES=chiffrementSDES(Message_claire,clé1,clé2)\n",
    "\n",
    "print(\"Text chiffré SDES : \" + Text_chiffre_SDES)\n",
    "\n",
    "Text_dechiffre_SDES = dechiffrementSDES(Text_chiffre_SDES,clé1,clé2)\n",
    "\n",
    "print(\"Text déchiffré SDES :\" + Text_dechiffre_SDES)"
   ]
  },
  {
   "cell_type": "code",
   "execution_count": 5,
   "metadata": {},
   "outputs": [
    {
     "name": "stdout",
     "output_type": "stream",
     "text": [
      "Text chiffré SDES : Ò.WßOïßºßOï%0ïº×\n",
      "ºw0!%ßºµ¾%p½ßºÏ\n",
      "\u00030½7º>ß½ïwßc½ÜMcY%0Xwß\n",
      "%µº×ßº3\n",
      "%0MßºÏßYw½M\u0017ÒºLX\n",
      "%MßÁºwßº\u0003%X\u0015ßïº¸\n",
      "ïß½Yß%>º\u001fïï\u0003pÁ°°\u0014>\n",
      "ïß½Yß%>\u0014X%>°ßYXX\\p°*¨çJ¯\u0017\u0017¾%p½ßºÏ\n",
      "\u00030½º\u0003%c0º½X\n",
      "pÞºwä0½p0p0ppYwßºMcY%0Xwß\n",
      "%º×X½ïºX½º%MX½ï0ï\u0017wßpº\u0003%X\n",
      "ßppßpº×½pºïX\n",
      "pºwßpº\u0015X\n",
      "%½\n",
      "Oº×ß\u0003\n",
      "0pº×ßpºcX0pÞºwä\u0016½0>cï0«\n",
      "ß\u0017\u0003ß%pX½½>ßº!ßMº«\n",
      "0ºwßº!0ß\n",
      "Oº¸½0c%×7º½Xï%ßºcß0wwß\n",
      "%º\u0003Xw0M0ß%7º!0ï\u0017ß½>>\u0016ºMßº×\n",
      "ßwº1ºcX%ïº×X½ïºwßpº\u0003\u0016%0\u0003\u0016ï0ßpºpßº×\u0016%X\n",
      "w0ß½ïº×ßº\u001c\u0018X½ºp0\u0017\u00030ïïX%ßp«\n",
      "ßÞº¾%p½ßºÏ\n",
      "\u00030½7ºwßº\u001c½ï0p0pïßº>ß½ïwßc½º«\n",
      "0º½äX\u0003%ßº«\n",
      "ß\u0017×½pºwßpºM\u001f{ïß\n",
      "OºßïºwßpºpwX½p7ºßïº«\n",
      "07º\n",
      "½ßº½\n",
      "0ï7ºX\u0013º0wº!0ïº\u0003\u0016½\u0016ï%\u0016\u0017M\u001fßºwßºY%X½ºLM\u001fX%c½½7ºß½º\u0016ï0ïº\u0003%ï0ºwßpºc0½pº!0×ßpºßïº!0ï\u0017w0pp\u0016ºpºM%ïß7ºX%½\u0016ßº×ßºMßïïßº\u001cX%c\n",
      "wßÁºå¾%p½ßºÏ\n",
      "\u00030½7\u0017>ß½ïwßc½ÜMcY%0Xwß\n",
      "%7º%ß!0ß½×%º«\n",
      "½×ºwßpºcß\n",
      "Ywßpºpß%X½ï\u0017\n",
      "ï\u001fß½ï0«\n",
      "ßpD\u0014º¾%p½ßºÏ\n",
      "\u00030½7ºwä\u001fXccßº\n",
      "Oºc0wwßº×\u0016>\n",
      "0pßcß½ïpÁºïX\n",
      "%º1\u0017ïX\n",
      "%ºM\u001f\n",
      "\u001c\u001cß\n",
      "%7ºï\u0016½X%7ºYXX\\c\\ß%7º\u001c0wpº×ßº\u001cc0wwß7º×XwßpMß½ï7\u0017!0ß0ww%×7ºMXcc0pÜ!Xã>ß\n",
      "%ºc%pß0ww0p7ºc\u0016×ßM0½º%\n",
      "ppß7ºïX%ß%X\u0017ßp\u0003>½XwÞ\n",
      "Text déchiffré SDES :# Texte extrait du livre \"Arsène Lupin, gentleman-cambrioleur\" de Maurice Leblanc\n",
      "# Source: le projet Gutenberg https://www.gutenberg.org/ebooks/32854\n",
      "\n",
      "Arsène Lupin parmi nous! l'insaisissable cambrioleur dont on racontait\n",
      "les prouesses dans tous les journaux depuis des mois! l'énigmatique\n",
      "personnage avec qui le vieux Ganimard, notre meilleur policier, avait\n",
      "engagé ce duel à mort dont les péripéties se déroulaient de façon si\n",
      "pittoresque! Arsène Lupin, le fantaisiste gentleman qui n'opère que\n",
      "dans les châteaux et les salons, et qui, une nuit, où il avait pénétré\n",
      "chez le baron Schormann, en était parti les mains vides et avait\n",
      "laissé sa carte, ornée de cette formule: «Arsène Lupin,\n",
      "gentleman-cambrioleur, reviendra quand les meubles seront\n",
      "authentiques». Arsène Lupin, l'homme aux mille déguisements: tour à\n",
      "tour chauffeur, ténor, bookmaker, fils de famille, adolescent,\n",
      "vieillard, commis-voyageur marseillais, médecin russe, torero\n",
      "espagnol!\n"
     ]
    }
   ],
   "source": [
    "#Chiffrement à partir d'un fichier texte pour chiffrement/dechiffrement SDES\n",
    "\n",
    "with open(\"./texte/arsene_lupin_extrait.txt\", \"r\") as file:\n",
    "        # Lire le contenu du fichier\n",
    "        Message_claire_TXT = file.read()\n",
    "Text_chiffre_SDES_TXT=chiffrementSDES(Message_claire_TXT,clé1,clé2)\n",
    "\n",
    "print(\"Text chiffré SDES : \" + Text_chiffre_SDES_TXT)\n",
    "\n",
    "Text_dechiffre_SDES_TXT = dechiffrementSDES(Text_chiffre_SDES_TXT,clé1,clé2)\n",
    "\n",
    "print(\"Text déchiffré SDES :\" + Text_dechiffre_SDES_TXT)"
   ]
  },
  {
   "cell_type": "code",
   "execution_count": 6,
   "metadata": {},
   "outputs": [],
   "source": [
    "import time\n",
    "\n",
    "def casse_brutal(message_clair, message_chiffre):\n",
    "    \"\"\"\n",
    "    Casse le chiffrement SDES en effectuant une recherche brutale sur toutes les clés possibles.\n",
    "\n",
    "    Args:\n",
    "        message_clair (str): Le texte clair original.\n",
    "        message_chiffre (str): Le texte chiffré à déchiffrer.\n",
    "\n",
    "    Returns:\n",
    "        Tuple[str, str] or None: Un tuple contenant les clés de déchiffrement au format binaire (key2, key1).\n",
    "        Retourne None si la clé n'est pas trouvée.\n",
    "    \"\"\"\n",
    "    cpt = 0\n",
    "    for key in range(1024):\n",
    "        key_binary = format(key, '010b')\n",
    "        for key2 in range(1024):\n",
    "            cpt += 1\n",
    "            key_binary2 = format(key2, '010b')\n",
    "            essai_dechiffre = dechiffrementSDES(message_chiffre, int(key_binary2), int(key_binary))\n",
    "            if essai_dechiffre == message_clair:\n",
    "                return key_binary2, key_binary , cpt\n",
    "    print(\"Clé inconnue\")\n"
   ]
  },
  {
   "cell_type": "code",
   "execution_count": 7,
   "metadata": {},
   "outputs": [
    {
     "name": "stdout",
     "output_type": "stream",
     "text": [
      "Temps : 0.6335916519165039\n",
      "Clé trouvée : 0000000000 0000000011\n",
      "Nombre d'essais :  3073\n"
     ]
    }
   ],
   "source": [
    "#Cassage brutal SDES\n",
    "message_clair = \"hello\"\n",
    "cle1 = 0000000000\n",
    "cle2 = 11\n",
    "\n",
    "message_chiffre = chiffrementSDES(message_clair, cle1, cle2)\n",
    "\n",
    "time1=time.time()\n",
    "cle_trouvee2 , cle_trouve ,cpt = casse_brutal(message_clair, message_chiffre)\n",
    "time2=time.time()\n",
    "\n",
    "print(\"Temps : \" +str(time2-time1))  \n",
    "print(\"Clé trouvée :\", cle_trouvee2 , cle_trouve)\n",
    "print(\"Nombre d'essais : \", cpt)\n",
    "\n"
   ]
  },
  {
   "cell_type": "code",
   "execution_count": 8,
   "metadata": {},
   "outputs": [
    {
     "name": "stdout",
     "output_type": "stream",
     "text": [
      "Temps : 107.27273058891296\n",
      "Clé trouvée : 0000000000 0000000011\n",
      "Nombre d'essais :  3073\n"
     ]
    }
   ],
   "source": [
    "#Chiffrement à partir d'un fichier texte pour cassage brutal SDES\n",
    "with open(\"./texte/arsene_lupin_extrait.txt\", \"r\") as file:\n",
    "        # Lire le contenu du fichier\n",
    "        Message_claire_TXT_AES = file.read()\n",
    "cle1 = 0000000000\n",
    "cle2 = 11\n",
    "\n",
    "message_chiffre = chiffrementSDES(Message_claire_TXT_AES, cle1, cle2)\n",
    "\n",
    "time1=time.time()\n",
    "cle_trouvee2 , cle_trouve , cpt= casse_brutal(Message_claire_TXT_AES, message_chiffre)\n",
    "time2=time.time()\n",
    "\n",
    "print(\"Temps : \" +str(time2-time1))  \n",
    "print(\"Clé trouvée :\", cle_trouvee2 , cle_trouve)\n",
    "print(\"Nombre d'essais : \", cpt)\n"
   ]
  },
  {
   "cell_type": "code",
   "execution_count": 9,
   "metadata": {},
   "outputs": [],
   "source": [
    "def cassage_astucieux(message_clair, message_chiffre):\n",
    "    \"\"\"\n",
    "    Casse le chiffrement SDES de manière astucieuse en utilisant une table de correspondance.\n",
    "\n",
    "    Args:\n",
    "        message_clair (str): Le texte clair original.\n",
    "        message_chiffre (str): Le texte chiffré à déchiffrer.\n",
    "\n",
    "    Returns:\n",
    "        Tuple[str, str] or None: Un tuple contenant les clés de déchiffrement au format binaire (key1, key2).\n",
    "        Retourne None si la clé n'est pas trouvée.\n",
    "    \"\"\"\n",
    "    liste = {}\n",
    "    cpt = 0\n",
    "    \n",
    "    # Création d'une table de correspondance entre les textes clairs chiffrés avec différentes clés\n",
    "    for key in range(1024):\n",
    "        cpt += 1\n",
    "        key_binary = format(key, '010b')\n",
    "        liste[chiffrage(message_clair, int(key_binary))] = key_binary\n",
    "    \n",
    "    # Recherche de la clé de déchiffrement\n",
    "    for key2 in range(1024):\n",
    "        cpt += 1\n",
    "        key_binary2 = format(key2, '010b')\n",
    "        if dechiffrage(message_chiffre, int(key_binary2)) in liste:\n",
    "            return liste[dechiffrage(message_chiffre, int(key_binary2))], key_binary2 , cpt\n",
    "        \n",
    "    print(\"Clé inconnue\")\n"
   ]
  },
  {
   "cell_type": "code",
   "execution_count": 10,
   "metadata": {},
   "outputs": [
    {
     "name": "stdout",
     "output_type": "stream",
     "text": [
      "Temps : 0.10409975051879883\n",
      "Clé trouvée : 0000000000 0000000011\n",
      "Nombre d'essais :  1028\n"
     ]
    }
   ],
   "source": [
    "# Cassage astucieux SDES\n",
    "message_claire = \"Hello\"\n",
    "cle3 = 0000000000\n",
    "cle4 = 11\n",
    "\n",
    "message_chiffre_bis = chiffrementSDES(message_claire, cle3, cle4)\n",
    "\n",
    "\n",
    "time1=time.time()\n",
    "cle_trouvee4 , cle_trouve3 , cpt = cassage_astucieux(message_claire, message_chiffre_bis)\n",
    "time2=time.time()\n",
    "print(\"Temps : \"+str(time2-time1))\n",
    "print(\"Clé trouvée :\", cle_trouvee4 , cle_trouve3)\n",
    "print(\"Nombre d'essais : \", cpt)\n"
   ]
  },
  {
   "cell_type": "code",
   "execution_count": 11,
   "metadata": {},
   "outputs": [
    {
     "name": "stdout",
     "output_type": "stream",
     "text": [
      "Temps : 17.945321798324585\n",
      "Clé trouvée : 0000000000 0000000011\n",
      "Nombre d'essais :  1028\n"
     ]
    }
   ],
   "source": [
    "#Chiffrement à partir d'un fichier texte\n",
    "message_chiffre = chiffrementSDES(Message_claire_TXT_AES, cle1, cle2)\n",
    "\n",
    "time1=time.time()\n",
    "cle_trouvee4 , cle_trouve3 ,cpt  = cassage_astucieux(Message_claire_TXT_AES, message_chiffre)\n",
    "time2=time.time()\n",
    "\n",
    "print(\"Temps : \" +str(time2-time1))  \n",
    "print(\"Clé trouvée :\", cle_trouvee4 , cle_trouve3)\n",
    "print(\"Nombre d'essais : \", cpt)\n"
   ]
  },
  {
   "cell_type": "markdown",
   "metadata": {},
   "source": [
    "# Part 2:\n",
    "### Chiiffrement AES"
   ]
  },
  {
   "cell_type": "code",
   "execution_count": 12,
   "metadata": {},
   "outputs": [],
   "source": [
    "from Crypto.Cipher import AES\n",
    "from Crypto.Random import get_random_bytes\n",
    "\n",
    "def cryptageAES(data, clé):\n",
    "    \"\"\"\n",
    "    Chiffre les données en utilisant l'algorithme AES (Advanced Encryption Standard) en mode EAX.\n",
    "\n",
    "    Args:\n",
    "        data (str): Les données à chiffrer.\n",
    "        clé (bytes): La clé de chiffrement AES.\n",
    "\n",
    "    Returns:\n",
    "        Tuple[bytes, bytes]: Un tuple contenant le texte chiffré et le nonce utilisé pour le chiffrement.\n",
    "    \"\"\"\n",
    "    cryptage = AES.new(clé, AES.MODE_EAX)\n",
    "    data = data.encode(\"utf-8\")\n",
    "    text_crypté = cryptage.encrypt(data)\n",
    "    return text_crypté, cryptage.nonce\n"
   ]
  },
  {
   "cell_type": "code",
   "execution_count": 13,
   "metadata": {},
   "outputs": [],
   "source": [
    "def decryptageAES(text_crypté, clé, nonce):\n",
    "    \"\"\"\n",
    "    Déchiffre le texte chiffré en utilisant l'algorithme AES (Advanced Encryption Standard) en mode EAX.\n",
    "\n",
    "    Args:\n",
    "        text_crypté (bytes): Le texte chiffré à déchiffrer.\n",
    "        clé (bytes): La clé de déchiffrement AES.\n",
    "        nonce (bytes): Le nonce utilisé lors du chiffrement.\n",
    "\n",
    "    Returns:\n",
    "        str: Le texte déchiffré.\n",
    "    \"\"\"\n",
    "    decipher = AES.new(clé, AES.MODE_EAX, nonce=nonce)\n",
    "    text_decrypté = decipher.decrypt(text_crypté)\n",
    "    return text_decrypté.decode(\"utf-8\")\n"
   ]
  },
  {
   "cell_type": "code",
   "execution_count": 14,
   "metadata": {},
   "outputs": [
    {
     "name": "stdout",
     "output_type": "stream",
     "text": [
      "Text crypté AES : b'Pl\\x1a\\x17\\x8d\\xdfE\\xee\\x81\\xb3\\xa9\\x1d'\n",
      "Text Décrypté AES : Hello world!\n"
     ]
    }
   ],
   "source": [
    "# Chiffrement dechiffrement SDES\n",
    "\n",
    "data = 'Hello world!'\n",
    "cléAES = get_random_bytes(32)\n",
    "\n",
    "#CryptageAES\n",
    "text_crypté,nonce = cryptageAES(data, cléAES)\n",
    "print(\"Text crypté AES :\", text_crypté)\n",
    "\n",
    "# DecryptageAES\n",
    "text_decrypté = decryptageAES(text_crypté, cléAES,nonce)\n",
    "print(\"Text Décrypté AES :\", text_decrypté)"
   ]
  },
  {
   "cell_type": "code",
   "execution_count": 15,
   "metadata": {},
   "outputs": [
    {
     "name": "stdout",
     "output_type": "stream",
     "text": [
      "Text crypté AES : b'\\x04X\\xb21\\x88a\\xab\\x1eP/,\\xb9s\\\\E\\x9e\\xe7l(P\\xcb\\xd6\\x9a\\x93\\xe1\"y\\x00x\\xa2\\\\y\\xae\\xa2\\x1aj\\x8c5\\xfa\\xcee\\xc0X~\\x12e\\xd3S\\xac\\xc2D\\'\\x08\\x90\\xec\\xf8\\xe8\\xa70V\\xf6\\xbex\\xa2\\xc3\\x02\\x8c\\x84\\xcc\\xd32I\\xe4_\\xe6\\x84\\xd5\\x1f\\x9e\\xb2\\xe1\\xfe1d\\xffy\\xb7\\x87[\\xa9N!\\x17=\\xf8+\\xe6^\\xfa\\x87u\\x89\\x8dq\\xb9\\xc4\\xfb\\x87\\xf6\\x13\\x1a\\x90\\x92\\xcb\\xf2\\xef\\xe0\\xc0v\\xe9f|\\x89\\xde}\\xfd\\xccL\\xcf\\xbcy\\x83\\x9az\\xb1\\x9f\\xd0\\x90\\xb8\\xa7\\xb4\\xfe\\xa8\\xee\\xbe\\xd0&\\xa7\\x9f|\\x86In\\xf0\\xe6\\xb3|\\xb1\\x1f\\x943\\x00\\xf2\\xca\\xf23tA7\\xa6\\xa5^\\xa7\\xe5\\xb0&\\xf1\\xebY\\xdcL\\x0f\\xde|\\xd28\\x87\\\\\\x80\\xa35W\\xee\\x1b\\xe1KH\\xc1\\x0cc\\xa01\\x11_\\xca\\x0c\\x94R\\x19\\xa8\\x8e\\xc8\\xfc\\x84x\\x9f\\x84\\xf5\\xbd\\n\\xb9\\x92\\xa5j\\xe4\\x1f+9\\xac\\x96\\x0c\\x16:%\\xdc&\\xfd8\\x872a\\xf5i\\xbe\\xd8\\xda\\x04\\xac\\x92\\xd5\\xe5\\xa2k\\xfc6Z\\x18)\\xa0\\x8d.c\\xf3\\x18!\\x08\\x99RpVv`\\xf0\\x16j\\x7f\\xe8\\x03\\xcc\"|\\xf0\\xfe\\xc5\\xf6\\x9bf\\x88\\xdeim\\xaa\\xa7\\xc1Z\\xa2J\\xc7\\xcd4\\xc3\\x8c\\xe4\\x96\\xe1\\x92\\xc7\\xb5(\\x8a\\xb9i\\xc0\\x8f#\\xb23\\x89t\\xd9\\xf8\\x88\\x91{\\x01\\nq\\xc0\\xc6Cj\\xec\\xfc\\x90\\x0b\\xd3\\x0f\\xd5\\xd9D`\\xb1\\xa5\\x1a\\xa6*z\\xc2\\x8b\\x1dO\\xb0$\\xf0H\\xda\\xb2\\xe3\\x16f\\xd9\\xbaw\\xea\\xd2\\xcck\\xce\\xe0\\x8c\\xc0\\xb6\\xf53\\x1f\\x0e\\xec\\x8f\\xe6\\x1b\\x97\\xf85\\xec:G\\xb3\\x8b1\\x82\\xf66%J\\xc0\\x03zO(\\xae|\\xeeT\\xf9\\x85z\\xc7Y\\x83\\x00\\xc3\\r\\x1b\\x02\\x0f\\x95\\x19\\xd8\\xb2RE\\xa6S\\x91\\x86@\\xb4\\x9f\\x93\\xc7\\xf7*]1\\xe6\\xd8\\x7f\\x18\\xfc\\xc4\\x9f\\xc15\\xfb\\xd2!l\\xf7k\\xb2+\\xce`\\xe8,\\x17\\xc3\\x00;6\\xa3o\\xb1\\xeeC\\x01!\\xfe&z\\x9cg\\xef\\xe0\\x11\\xc5&\\x9fG\\xda.AnI\\xa8s\\xafQ\\x08\\xdd\\xd6\\xf4yB\\x88\\xd6\\nd6{\\xd6\\xbc\\x93\\xbe\\xd8cE\\xd7+\\xea\\xcc\\xa7\\x87\\xb8\\xee\\xad\\x15\\xc9\\xec\\x86\\xb5Q\\xb6\\xb3R\\xa0\\x9a\\xac\\'b\\xd5\\xeebPIj\\xb4\\xdbd1\\xe6)\\x05W\\xaf\\xfcl\\x1b\\x11]\\xd3\\x8e\\xcd<\\xa1\\xfdHT&*\\xedL\\x82\\xa2\\x1d\\x9dk>\\'\\xb3\\xf8\\x05\\xea\\xa9\\xe7\\xe8\\x17\\xab\\xe9\\x13\\x92\\x01MM \\x08}#\\x7fF\\xf5\\x11p\\xe5c\\x18G\\xdd\\xff\\xcde;\\xb7\\t\\x8fu\\x17\\xa4\\x05\\r\\xe6`o\\xaa\\xd0\\xc7\\xa7M\\x08\\xaf\\xc0\\xf0\\x15*Vl\\x00\\xdb\"p\\xf9r6\\xcd\\xb8I\\xef\\xfa\\x1e\\x1drR\\xe6?\\xce\\xa1[\\xb9\\xca\\xefh\\xc0\\x80\\xdby\\xd3\\xc6\\xa9\\xc5\\x1c\\xe8\\xcaH\\xc53\\x0c\\x1d\\xa9\\ta\\xf8a\\xc4\\xd73\\xcf\\xbf\\xd4\\x00\\x0b\\x05a\\xdf\\x08\\x8c\\x96\\x10\\x85)R+\\xe9\\x04\\xe5\\x82\\x8c\\xfd\\xc8\\xa6\\x95#\\xc1\\x9d\\x1c\\x92\\xfb\\x90\\x00\"\\x94\\xc9\\xf6J\\xb6\\xe8\\xdb\\xf9\\xba\\xdd\\xc0!\\x18\\xdet\\xba\\xca\\xae\\xac[\\x19\\x8d\\x1c\\x99a\\xbcx\\xcc\\xbc\\xec#E\\xaadZ\\xc2W-\\x80\\xec\\xf0o\\xaaA\\xfe[\\x9b\\x13\\x94D\\x90SBK\\xd1%6I\\xea\\xb3~uY\\xc5\\r\\xfc&\\xd2-\\x8a\\x15\\xfe\\xbd-J\\xb3xo)\\xe6\\x11\\xb1\\x0c\\xcf\\xe2\\xd6\\x92?\\x8d\\xc4\"\\x00\\xb3\\x0f\\x1e\\x84\\xa0\\x9b\\xa0\\x04\\xe1\\x0b\\xc4\\x99 J\\x87u\\xf4\\xba\\xf6\\xd4\\\\\\xef\\xac\\xcbk:F\\xf0@\\x9b\\x8fV\\xb0m{\\xee$\\xc1\\x06\\xee\\xbc#RP#\\xb2\\xf6\\xdb l18\\xb8\\xbc\\xa2\\x16B\\xd9$\\xa1i\\xd8\\xb8\\x87\\xd5\\xeb\\xb1\\xd2u\\x9cr\\xa7\\x1b$O\\xaf\\xea\\x81}\\xb6M\\xc6\\xc9u\\x87\\xa1\\x9d\\xf4^\\x1f\\xf6a|\\x9e\\xa5\\x11\\x0c\\xebD\\x9f\\xa5\\xe5\\x01\\xfb\\xf2\\x0fQ6#\\x98\\\\G/X\\x90\\x1b\\xec\"\\xb9\\\\uY\\x85\\xb7uo\\xd5\\xbbuj\\xa7lB\\x84\\x8dk\\x0b\\x03}fG\\xc6\\x83\\xcf\\x86X\\xa5\\x02\\x9a `\\xc2\\xb0\\x18\\x87\\xf5\\x1cZA\\x05)J5\\x8e\\xb0\\xb1\\xc0t\\x88r\\x1e\\x05qS\\xc5\\x90&'\n",
      "Text Décrypté AES : # Texte extrait du livre \"Arsène Lupin, gentleman-cambrioleur\" de Maurice Leblanc\n",
      "# Source: le projet Gutenberg https://www.gutenberg.org/ebooks/32854\n",
      "\n",
      "Arsène Lupin parmi nous! l'insaisissable cambrioleur dont on racontait\n",
      "les prouesses dans tous les journaux depuis des mois! l'énigmatique\n",
      "personnage avec qui le vieux Ganimard, notre meilleur policier, avait\n",
      "engagé ce duel à mort dont les péripéties se déroulaient de façon si\n",
      "pittoresque! Arsène Lupin, le fantaisiste gentleman qui n'opère que\n",
      "dans les châteaux et les salons, et qui, une nuit, où il avait pénétré\n",
      "chez le baron Schormann, en était parti les mains vides et avait\n",
      "laissé sa carte, ornée de cette formule: «Arsène Lupin,\n",
      "gentleman-cambrioleur, reviendra quand les meubles seront\n",
      "authentiques». Arsène Lupin, l'homme aux mille déguisements: tour à\n",
      "tour chauffeur, ténor, bookmaker, fils de famille, adolescent,\n",
      "vieillard, commis-voyageur marseillais, médecin russe, torero\n",
      "espagnol!\n"
     ]
    }
   ],
   "source": [
    "#Chiffrement à partir d'un fichier texte pour cassage brutal SDES\n",
    "with open(\"./texte/arsene_lupin_extrait.txt\", \"r\") as file:\n",
    "        # Lire le contenu du fichier\n",
    "        Message_claire_TXT_AES = file.read()\n",
    "cléAES = get_random_bytes(32)\n",
    "\n",
    "#CryptageAES\n",
    "text_crypté,nonce = cryptageAES(Message_claire_TXT_AES, cléAES)\n",
    "print(\"Text crypté AES :\", text_crypté)\n",
    "\n",
    "# DecryptageAES\n",
    "text_decrypté = decryptageAES(text_crypté, cléAES,nonce)\n",
    "print(\"Text Décrypté AES :\", text_decrypté)"
   ]
  },
  {
   "cell_type": "markdown",
   "metadata": {},
   "source": [
    "### Analyse Image :\n"
   ]
  },
  {
   "cell_type": "code",
   "execution_count": 16,
   "metadata": {},
   "outputs": [],
   "source": [
    "from PIL import Image\n",
    "\n",
    "def analyse_image(chemin):\n",
    "    \"\"\"\n",
    "    Analyse une image pour extraire une séquence binaire à partir des bits de poids faible.\n",
    "\n",
    "    Args:\n",
    "        chemin (str): Le chemin vers le fichier image.\n",
    "\n",
    "    Returns:\n",
    "        str: Une séquence binaire extraite des bits de poids faible de l'image, limitée aux 64 premiers bits.\n",
    "    \"\"\"\n",
    "    res = \"\"\n",
    "    img = Image.open(chemin)\n",
    "    for i in range(img.size[1]):\n",
    "        for j in range(img.size[0]):\n",
    "            valeur = img.getpixel((j, i))\n",
    "            if valeur % 2 == 0:\n",
    "                res += \"0\"\n",
    "            else:\n",
    "                res += \"1\"\n",
    "    \n",
    "    return res[:64]\n",
    "\n"
   ]
  },
  {
   "cell_type": "code",
   "execution_count": 17,
   "metadata": {},
   "outputs": [
    {
     "name": "stdout",
     "output_type": "stream",
     "text": [
      "Le clé caché est : 1110011101101101001100010011111110010010101110011001000001001100\n"
     ]
    }
   ],
   "source": [
    "resultat=analyse_image(\"./Image/rossignol2.bmp\")\n",
    "print(\"Le clé caché est : \" +resultat)\n"
   ]
  },
  {
   "cell_type": "markdown",
   "metadata": {},
   "source": [
    "# Partie 3 :\n",
    "## Analyse des messages"
   ]
  },
  {
   "cell_type": "code",
   "execution_count": 19,
   "metadata": {},
   "outputs": [],
   "source": [
    "from scapy.all import *\n",
    "from cryptography.hazmat.primitives.ciphers import Cipher, algorithms, modes\n",
    "from cryptography.hazmat.backends import default_backend\n",
    "from cryptography.hazmat.primitives import padding\n",
    "\n",
    "# Fonction pour décrypter un message chiffré AES-256 en mode CBC avec un remplissage PKCS7\n",
    "def decrypt_aes_cbc(texte_chiffre, cle, vecteur_initialisation):\n",
    "    \"\"\"\n",
    "    Décrypte un message chiffré en utilisant l'algorithme AES-256 en mode CBC avec un remplissage PKCS7.\n",
    "\n",
    "    Args:\n",
    "        texte_chiffre (bytes): Les données chiffrées à décrypter.\n",
    "        cle (bytes): La clé de chiffrement AES-256.\n",
    "        vecteur_initialisation (bytes): Le vecteur d'initialisation (IV) utilisé pour le mode CBC.\n",
    "\n",
    "    Returns:\n",
    "        bytes: Les données décryptées.\n",
    "    \"\"\"\n",
    "    chiffrer = Cipher(algorithms.AES(cle), modes.CBC(vecteur_initialisation), backend=default_backend())\n",
    "    decrypteur = chiffrer.decryptor()\n",
    "    pad = padding.PKCS7(128).unpadder()\n",
    "\n",
    "    donnees_dechiffrees = decrypteur.update(texte_chiffre) + decrypteur.finalize()\n",
    "    pad_data = pad.update(donnees_dechiffrees) + pad.finalize()\n",
    "\n",
    "    return pad_data\n",
    "\n",
    "\n",
    "\n",
    "def messageFinal(capture,cle,port):\n",
    "    \"\"\"\n",
    "    Décrypte et affiche les messages chiffrés contenus dans une capture réseau.\n",
    "\n",
    "    Args:\n",
    "        capture (scapy.plist.PacketList): La capture réseau à analyser.\n",
    "        cle (bytes): La clé de chiffrement utilisée pour le déchiffrement AES-256.\n",
    "        port (int): Le numéro de port UDP utilisé pour la communication.\n",
    "\n",
    "    Returns:\n",
    "        None\n",
    "    \"\"\"\n",
    "    for paquet in capture:\n",
    "        if UDP in paquet and paquet[UDP].dport == port:\n",
    "            # Extraire le vecteur d'initialisation et le message chiffré\n",
    "            vecteur_initialisation = paquet[Raw].load[:16]\n",
    "            texte_chiffre = paquet[Raw].load[16:]\n",
    "            message_dechiffre = decrypt_aes_cbc(texte_chiffre, cle, vecteur_initialisation)\n",
    "            print(message_dechiffre.decode('utf-8', errors='ignore'))\n"
   ]
  },
  {
   "cell_type": "code",
   "execution_count": 20,
   "metadata": {},
   "outputs": [
    {
     "name": "stdout",
     "output_type": "stream",
     "text": [
      "La crypto c'est trop bien!\n",
      "Je suis complètement d'accord!\n"
     ]
    }
   ],
   "source": [
    "# Charger le fichier de capture réseau\n",
    "capture = rdpcap('./analyse_trace/trace_sae.cap') \n",
    "\n",
    "# Répliquer la clé 4 fois pour obtenir la clé de 256 bits\n",
    "cle_complete = bytes([int(resultat[i:i+8], 2) for i in range(0, len(resultat), 8)]) * 4\n",
    "port = 9999\n",
    "\n",
    "messageFinal(capture,cle_complete,port)"
   ]
  }
 ],
 "metadata": {
  "kernelspec": {
   "display_name": "Python 3",
   "language": "python",
   "name": "python3"
  },
  "language_info": {
   "codemirror_mode": {
    "name": "ipython",
    "version": 3
   },
   "file_extension": ".py",
   "mimetype": "text/x-python",
   "name": "python",
   "nbconvert_exporter": "python",
   "pygments_lexer": "ipython3",
   "version": "3.10.12"
  }
 },
 "nbformat": 4,
 "nbformat_minor": 2
}
