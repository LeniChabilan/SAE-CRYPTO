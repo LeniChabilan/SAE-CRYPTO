{
 "cells": [
  {
   "cell_type": "markdown",
   "metadata": {},
   "source": [
    "# Partie 1 \n",
    "### Chiffrement SDES:"
   ]
  },
  {
   "cell_type": "code",
   "execution_count": 1,
   "metadata": {},
   "outputs": [],
   "source": [
    "from DES import *\n",
    "\n",
    "def chiffrage(message, cle):\n",
    "    \"\"\"\n",
    "    Chiffre le message en utilisant l'algorithme DES.\n",
    "\n",
    "    Args:\n",
    "        message (str): Le message à chiffrer.\n",
    "        cle (str): La clé de chiffrement.\n",
    "\n",
    "    Returns:\n",
    "        str: Le message chiffré.\n",
    "    \"\"\"\n",
    "    message_chiffre = \"\"\n",
    "    for lettre in message:\n",
    "        message_chiffre += chr(encrypt(cle, ord(lettre)))\n",
    "    return message_chiffre\n",
    "\n",
    "\n",
    "def dechiffrage(message_chiffre, cle):\n",
    "    \"\"\"\n",
    "    Déchiffre le message chiffré en utilisant l'algorithme DES.\n",
    "\n",
    "    Args:\n",
    "        message_chiffre (str): Le message chiffré.\n",
    "        cle (str): La clé de déchiffrement.\n",
    "\n",
    "    Returns:\n",
    "        str: Le message déchiffré.\n",
    "    \"\"\"\n",
    "    message_clair = \"\"\n",
    "    for lettre in message_chiffre:\n",
    "        message_clair += chr(decrypt(cle, ord(lettre)))\n",
    "    return message_clair\n"
   ]
  },
  {
   "cell_type": "code",
   "execution_count": 2,
   "metadata": {},
   "outputs": [],
   "source": [
    "def chiffrementSDES(text, cle1, cle2):\n",
    "    \"\"\"\n",
    "    Chiffre le texte en utilisant l'algorithme Simplified Data Encryption Standard (SDES).\n",
    "\n",
    "    Args:\n",
    "        text (str): Le texte à chiffrer.\n",
    "        cle1 (str): La première clé de chiffrement pour SDES.\n",
    "        cle2 (str): La deuxième clé de chiffrement pour SDES.\n",
    "\n",
    "    Returns:\n",
    "        str: Le texte chiffré à l'aide de SDES.\n",
    "    \"\"\"\n",
    "    cryp1 = []\n",
    "    cryp2 = []\n",
    "    mot_chiffre = \"\"\n",
    "    \n",
    "    # Chiffrement avec la première clé\n",
    "    for char in text:\n",
    "        cryp1.append(encrypt(cle1, ord(char)))\n",
    "    \n",
    "    # Chiffrement avec la deuxième clé\n",
    "    for char in cryp1:\n",
    "        cryp2.append(encrypt(cle2, char))\n",
    "    \n",
    "    # Conversion des résultats chiffrés en caractères\n",
    "    for char in cryp2:\n",
    "        mot_chiffre += chr(char)\n",
    "    \n",
    "    return mot_chiffre\n"
   ]
  },
  {
   "cell_type": "code",
   "execution_count": 3,
   "metadata": {},
   "outputs": [],
   "source": [
    "def dechiffrementSDES(text, cle1, cle2):\n",
    "    \"\"\"\n",
    "    Déchiffre le texte chiffré à l'aide de l'algorithme Simplified Data Encryption Standard (SDES).\n",
    "\n",
    "    Args:\n",
    "        text (str): Le texte chiffré à déchiffrer.\n",
    "        cle1 (str): La première clé de chiffrement utilisée pour le déchiffrement SDES.\n",
    "        cle2 (str): La deuxième clé de chiffrement utilisée pour le déchiffrement SDES.\n",
    "\n",
    "    Returns:\n",
    "        str: Le texte déchiffré à l'aide de SDES.\n",
    "    \"\"\"\n",
    "    decrypt1 = []\n",
    "    decrypt2 = []\n",
    "    \n",
    "    # Déchiffrement avec la deuxième clé\n",
    "    for char in text:\n",
    "        decrypt1.append(decrypt(cle2, ord(char)))\n",
    "    \n",
    "    # Déchiffrement avec la première clé\n",
    "    for char in decrypt1:\n",
    "        decrypt2.append(decrypt(cle1, char))\n",
    "    \n",
    "    # Conversion des résultats déchiffrés en caractères\n",
    "    mot_dechiffre = \"\"\n",
    "    for char in decrypt2:\n",
    "        mot_dechiffre += chr(char)\n",
    "    \n",
    "    return mot_dechiffre\n"
   ]
  },
  {
   "cell_type": "code",
   "execution_count": 4,
   "metadata": {},
   "outputs": [
    {
     "name": "stdout",
     "output_type": "stream",
     "text": [
      "Text chiffré SDES : ßwwX\n",
      "Text déchiffré SDES :Hello\n"
     ]
    }
   ],
   "source": [
    "# Chiffrement dechiffrement SDES\n",
    "clé1 = 0000000000\n",
    "clé2 = 11\n",
    "Message_claire = \"Hello\"\n",
    "Text_chiffre_SDES=chiffrementSDES(Message_claire,clé1,clé2)\n",
    "\n",
    "print(\"Text chiffré SDES : \" + Text_chiffre_SDES)\n",
    "\n",
    "Text_dechiffre_SDES = dechiffrementSDES(Text_chiffre_SDES,clé1,clé2)\n",
    "\n",
    "print(\"Text déchiffré SDES :\" + Text_dechiffre_SDES)"
   ]
  },
  {
   "cell_type": "code",
   "execution_count": 5,
   "metadata": {},
   "outputs": [
    {
     "name": "stdout",
     "output_type": "stream",
     "text": [
      "Text chiffré SDES : Ò.WßOïßºßOï%0ïº×\n",
      "ºw0!%ßºµ¾%p½ßºÏ\n",
      "\u00030½7º>ß½ïwßc½ÜMcY%0Xwß\n",
      "%µº×ßº3\n",
      "%0MßºÏßYw½M\u0017ÒºLX\n",
      "%MßÁºwßº\u0003%X\u0015ßïº¸\n",
      "ïß½Yß%>º\u001fïï\u0003pÁ°°\u0014>\n",
      "ïß½Yß%>\u0014X%>°ßYXX\\p°*¨çJ¯\u0017\u0017¾%p½ßºÏ\n",
      "\u00030½º\u0003%c0º½X\n",
      "pÞºwä0½p0p0ppYwßºMcY%0Xwß\n",
      "%º×X½ïºX½º%MX½ï0ï\u0017wßpº\u0003%X\n",
      "ßppßpº×½pºïX\n",
      "pºwßpº\u0015X\n",
      "%½\n",
      "Oº×ß\u0003\n",
      "0pº×ßpºcX0pÞºwä\u0016½0>cï0«\n",
      "ß\u0017\u0003ß%pX½½>ßº!ßMº«\n",
      "0ºwßº!0ß\n",
      "Oº¸½0c%×7º½Xï%ßºcß0wwß\n",
      "%º\u0003Xw0M0ß%7º!0ï\u0017ß½>>\u0016ºMßº×\n",
      "ßwº1ºcX%ïº×X½ïºwßpº\u0003\u0016%0\u0003\u0016ï0ßpºpßº×\u0016%X\n",
      "w0ß½ïº×ßº\u001c\u0018X½ºp0\u0017\u00030ïïX%ßp«\n",
      "ßÞº¾%p½ßºÏ\n",
      "\u00030½7ºwßº\u001c½ï0p0pïßº>ß½ïwßc½º«\n",
      "0º½äX\u0003%ßº«\n",
      "ß\u0017×½pºwßpºM\u001f{ïß\n",
      "OºßïºwßpºpwX½p7ºßïº«\n",
      "07º\n",
      "½ßº½\n",
      "0ï7ºX\u0013º0wº!0ïº\u0003\u0016½\u0016ï%\u0016\u0017M\u001fßºwßºY%X½ºLM\u001fX%c½½7ºß½º\u0016ï0ïº\u0003%ï0ºwßpºc0½pº!0×ßpºßïº!0ï\u0017w0pp\u0016ºpºM%ïß7ºX%½\u0016ßº×ßºMßïïßº\u001cX%c\n",
      "wßÁºå¾%p½ßºÏ\n",
      "\u00030½7\u0017>ß½ïwßc½ÜMcY%0Xwß\n",
      "%7º%ß!0ß½×%º«\n",
      "½×ºwßpºcß\n",
      "Ywßpºpß%X½ï\u0017\n",
      "ï\u001fß½ï0«\n",
      "ßpD\u0014º¾%p½ßºÏ\n",
      "\u00030½7ºwä\u001fXccßº\n",
      "Oºc0wwßº×\u0016>\n",
      "0pßcß½ïpÁºïX\n",
      "%º1\u0017ïX\n",
      "%ºM\u001f\n",
      "\u001c\u001cß\n",
      "%7ºï\u0016½X%7ºYXX\\c\\ß%7º\u001c0wpº×ßº\u001cc0wwß7º×XwßpMß½ï7\u0017!0ß0ww%×7ºMXcc0pÜ!Xã>ß\n",
      "%ºc%pß0ww0p7ºc\u0016×ßM0½º%\n",
      "ppß7ºïX%ß%X\u0017ßp\u0003>½XwÞ\n",
      "Text déchiffré SDES :# Texte extrait du livre \"Arsène Lupin, gentleman-cambrioleur\" de Maurice Leblanc\n",
      "# Source: le projet Gutenberg https://www.gutenberg.org/ebooks/32854\n",
      "\n",
      "Arsène Lupin parmi nous! l'insaisissable cambrioleur dont on racontait\n",
      "les prouesses dans tous les journaux depuis des mois! l'énigmatique\n",
      "personnage avec qui le vieux Ganimard, notre meilleur policier, avait\n",
      "engagé ce duel à mort dont les péripéties se déroulaient de façon si\n",
      "pittoresque! Arsène Lupin, le fantaisiste gentleman qui n'opère que\n",
      "dans les châteaux et les salons, et qui, une nuit, où il avait pénétré\n",
      "chez le baron Schormann, en était parti les mains vides et avait\n",
      "laissé sa carte, ornée de cette formule: «Arsène Lupin,\n",
      "gentleman-cambrioleur, reviendra quand les meubles seront\n",
      "authentiques». Arsène Lupin, l'homme aux mille déguisements: tour à\n",
      "tour chauffeur, ténor, bookmaker, fils de famille, adolescent,\n",
      "vieillard, commis-voyageur marseillais, médecin russe, torero\n",
      "espagnol!\n"
     ]
    }
   ],
   "source": [
    "#Chiffrement à partir d'un fichier texte pour chiffrement/dechiffrement SDES\n",
    "\n",
    "with open(\"./texte/arsene_lupin_extrait.txt\", \"r\") as file:\n",
    "        # Lire le contenu du fichier\n",
    "        Message_claire_TXT = file.read()\n",
    "Text_chiffre_SDES_TXT=chiffrementSDES(Message_claire_TXT,clé1,clé2)\n",
    "\n",
    "print(\"Text chiffré SDES : \" + Text_chiffre_SDES_TXT)\n",
    "\n",
    "Text_dechiffre_SDES_TXT = dechiffrementSDES(Text_chiffre_SDES_TXT,clé1,clé2)\n",
    "\n",
    "print(\"Text déchiffré SDES :\" + Text_dechiffre_SDES_TXT)"
   ]
  },
  {
   "cell_type": "code",
   "execution_count": 6,
   "metadata": {},
   "outputs": [],
   "source": [
    "import time\n",
    "\n",
    "def casse_brutal(message_clair, message_chiffre):\n",
    "    \"\"\"\n",
    "    Casse le chiffrement SDES en effectuant une recherche brutale sur toutes les clés possibles.\n",
    "\n",
    "    Args:\n",
    "        message_clair (str): Le texte clair original.\n",
    "        message_chiffre (str): Le texte chiffré à déchiffrer.\n",
    "\n",
    "    Returns:\n",
    "        Tuple[str, str] or None: Un tuple contenant les clés de déchiffrement au format binaire (key2, key1).\n",
    "        Retourne None si la clé n'est pas trouvée.\n",
    "    \"\"\"\n",
    "    cpt = 0\n",
    "    for key in range(1024):\n",
    "        key_binary = format(key, '010b')\n",
    "        for key2 in range(1024):\n",
    "            cpt += 1\n",
    "            key_binary2 = format(key2, '010b')\n",
    "            essai_dechiffre = dechiffrementSDES(message_chiffre, int(key_binary2), int(key_binary))\n",
    "            if essai_dechiffre == message_clair:\n",
    "                return key_binary2, key_binary , cpt\n",
    "    print(\"Clé inconnue\")\n"
   ]
  },
  {
   "cell_type": "code",
   "execution_count": 7,
   "metadata": {},
   "outputs": [
    {
     "name": "stdout",
     "output_type": "stream",
     "text": [
      "Temps : 0.5824015140533447\n",
      "Clé trouvée : 0000000000 0000000011\n",
      "Nombre d'essais :  3073\n"
     ]
    }
   ],
   "source": [
    "#Cassage brutal SDES\n",
    "message_clair = \"hello\"\n",
    "cle1 = 0000000000\n",
    "cle2 = 11\n",
    "\n",
    "message_chiffre = chiffrementSDES(message_clair, cle1, cle2)\n",
    "\n",
    "time1=time.time()\n",
    "cle_trouvee2 , cle_trouve ,cpt = casse_brutal(message_clair, message_chiffre)\n",
    "time2=time.time()\n",
    "\n",
    "print(\"Temps : \" +str(time2-time1))  \n",
    "print(\"Clé trouvée :\", cle_trouvee2 , cle_trouve)\n",
    "print(\"Nombre d'essais : \", cpt)\n",
    "\n"
   ]
  },
  {
   "cell_type": "code",
   "execution_count": 8,
   "metadata": {},
   "outputs": [
    {
     "name": "stdout",
     "output_type": "stream",
     "text": [
      "Temps : 107.18013644218445\n",
      "Clé trouvée : 0000000000 0000000011\n",
      "Nombre d'essais :  3073\n"
     ]
    }
   ],
   "source": [
    "#Chiffrement à partir d'un fichier texte pour cassage brutal SDES\n",
    "with open(\"./texte/arsene_lupin_extrait.txt\", \"r\") as file:\n",
    "        # Lire le contenu du fichier\n",
    "        Message_claire_TXT_AES = file.read()\n",
    "cle1 = 0000000000\n",
    "cle2 = 11\n",
    "\n",
    "message_chiffre = chiffrementSDES(Message_claire_TXT_AES, cle1, cle2)\n",
    "\n",
    "time1=time.time()\n",
    "cle_trouvee2 , cle_trouve , cpt= casse_brutal(Message_claire_TXT_AES, message_chiffre)\n",
    "time2=time.time()\n",
    "\n",
    "print(\"Temps : \" +str(time2-time1))  \n",
    "print(\"Clé trouvée :\", cle_trouvee2 , cle_trouve)\n",
    "print(\"Nombre d'essais : \", cpt)\n"
   ]
  },
  {
   "cell_type": "code",
   "execution_count": 9,
   "metadata": {},
   "outputs": [],
   "source": [
    "def cassage_astucieux(message_clair, message_chiffre):\n",
    "    \"\"\"\n",
    "    Casse le chiffrement SDES de manière astucieuse en utilisant une table de correspondance.\n",
    "\n",
    "    Args:\n",
    "        message_clair (str): Le texte clair original.\n",
    "        message_chiffre (str): Le texte chiffré à déchiffrer.\n",
    "\n",
    "    Returns:\n",
    "        Tuple[str, str] or None: Un tuple contenant les clés de déchiffrement au format binaire (key1, key2).\n",
    "        Retourne None si la clé n'est pas trouvée.\n",
    "    \"\"\"\n",
    "    liste = {}\n",
    "    cpt = 0\n",
    "    \n",
    "    # Création d'une table de correspondance entre les textes clairs chiffrés avec différentes clés\n",
    "    for key in range(1024):\n",
    "        cpt += 1\n",
    "        key_binary = format(key, '010b')\n",
    "        liste[chiffrage(message_clair, int(key_binary))] = key_binary\n",
    "    \n",
    "    # Recherche de la clé de déchiffrement\n",
    "    for key2 in range(1024):\n",
    "        cpt += 1\n",
    "        key_binary2 = format(key2, '010b')\n",
    "        if dechiffrage(message_chiffre, int(key_binary2)) in liste:\n",
    "            return liste[dechiffrage(message_chiffre, int(key_binary2))], key_binary2 , cpt\n",
    "        \n",
    "    print(\"Clé inconnue\")\n"
   ]
  },
  {
   "cell_type": "code",
   "execution_count": 10,
   "metadata": {},
   "outputs": [
    {
     "name": "stdout",
     "output_type": "stream",
     "text": [
      "Temps : 0.10402226448059082\n",
      "Clé trouvée : 0000000000 0000000011\n",
      "Nombre d'essais :  1028\n"
     ]
    }
   ],
   "source": [
    "# Cassage astucieux SDES\n",
    "message_claire = \"Hello\"\n",
    "cle3 = 0000000000\n",
    "cle4 = 11\n",
    "\n",
    "message_chiffre_bis = chiffrementSDES(message_claire, cle3, cle4)\n",
    "\n",
    "\n",
    "time1=time.time()\n",
    "cle_trouvee4 , cle_trouve3 , cpt = cassage_astucieux(message_claire, message_chiffre_bis)\n",
    "time2=time.time()\n",
    "print(\"Temps : \"+str(time2-time1))\n",
    "print(\"Clé trouvée :\", cle_trouvee4 , cle_trouve3)\n",
    "print(\"Nombre d'essais : \", cpt)\n"
   ]
  },
  {
   "cell_type": "code",
   "execution_count": 11,
   "metadata": {},
   "outputs": [
    {
     "name": "stdout",
     "output_type": "stream",
     "text": [
      "Temps : 18.007657289505005\n",
      "Clé trouvée : 0000000000 0000000011\n",
      "Nombre d'essais :  1028\n"
     ]
    }
   ],
   "source": [
    "#Chiffrement à partir d'un fichier texte\n",
    "message_chiffre = chiffrementSDES(Message_claire_TXT_AES, cle1, cle2)\n",
    "\n",
    "time1=time.time()\n",
    "cle_trouvee4 , cle_trouve3 ,cpt  = cassage_astucieux(Message_claire_TXT_AES, message_chiffre)\n",
    "time2=time.time()\n",
    "\n",
    "print(\"Temps : \" +str(time2-time1))  \n",
    "print(\"Clé trouvée :\", cle_trouvee4 , cle_trouve3)\n",
    "print(\"Nombre d'essais : \", cpt)\n"
   ]
  },
  {
   "cell_type": "markdown",
   "metadata": {},
   "source": [
    "# Part 2:\n",
    "### Chiiffrement AES"
   ]
  },
  {
   "cell_type": "code",
   "execution_count": 12,
   "metadata": {},
   "outputs": [],
   "source": [
    "from Crypto.Cipher import AES\n",
    "from Crypto.Random import get_random_bytes\n",
    "\n",
    "def cryptageAES(data, clé):\n",
    "    \"\"\"\n",
    "    Chiffre les données en utilisant l'algorithme AES (Advanced Encryption Standard) en mode EAX.\n",
    "\n",
    "    Args:\n",
    "        data (str): Les données à chiffrer.\n",
    "        clé (bytes): La clé de chiffrement AES.\n",
    "\n",
    "    Returns:\n",
    "        Tuple[bytes, bytes]: Un tuple contenant le texte chiffré et le nonce utilisé pour le chiffrement.\n",
    "    \"\"\"\n",
    "    cryptage = AES.new(clé, AES.MODE_EAX)\n",
    "    data = data.encode(\"utf-8\")\n",
    "    text_crypté = cryptage.encrypt(data)\n",
    "    return text_crypté, cryptage.nonce\n"
   ]
  },
  {
   "cell_type": "code",
   "execution_count": 13,
   "metadata": {},
   "outputs": [],
   "source": [
    "def decryptageAES(text_crypté, clé, nonce):\n",
    "    \"\"\"\n",
    "    Déchiffre le texte chiffré en utilisant l'algorithme AES (Advanced Encryption Standard) en mode EAX.\n",
    "\n",
    "    Args:\n",
    "        text_crypté (bytes): Le texte chiffré à déchiffrer.\n",
    "        clé (bytes): La clé de déchiffrement AES.\n",
    "        nonce (bytes): Le nonce utilisé lors du chiffrement.\n",
    "\n",
    "    Returns:\n",
    "        str: Le texte déchiffré.\n",
    "    \"\"\"\n",
    "    decipher = AES.new(clé, AES.MODE_EAX, nonce=nonce)\n",
    "    text_decrypté = decipher.decrypt(text_crypté)\n",
    "    return text_decrypté.decode(\"utf-8\")\n"
   ]
  },
  {
   "cell_type": "code",
   "execution_count": 14,
   "metadata": {},
   "outputs": [
    {
     "name": "stdout",
     "output_type": "stream",
     "text": [
      "Text crypté AES : b'v\\x82\\x89\\xba&Z\\x9d\\x8b[\\x04K\\xc3'\n",
      "Text Décrypté AES : Hello world!\n"
     ]
    }
   ],
   "source": [
    "# Chiffrement dechiffrement SDES\n",
    "\n",
    "data = 'Hello world!'\n",
    "cléAES = get_random_bytes(32)\n",
    "\n",
    "#CryptageAES\n",
    "text_crypté,nonce = cryptageAES(data, cléAES)\n",
    "print(\"Text crypté AES :\", text_crypté)\n",
    "\n",
    "# DecryptageAES\n",
    "text_decrypté = decryptageAES(text_crypté, cléAES,nonce)\n",
    "print(\"Text Décrypté AES :\", text_decrypté)"
   ]
  },
  {
   "cell_type": "code",
   "execution_count": 15,
   "metadata": {},
   "outputs": [
    {
     "name": "stdout",
     "output_type": "stream",
     "text": [
      "Text crypté AES : b'\\x8dxP\\xfaa\\xe3\\x8cv\\xea\\x84\\x97\\xca\\x8cR\\x19\\xe57t\\xb3\\xd7\\x8b]@d\\x90\\x80\\xd1H\\xe9\\x0c\\x9a\\x91\\xcd\\xf6\\x94Rt\\x82\\x1b8\\x96LW\\xc5\\x85N\\xe5 \\x17\\x16\\x06\\xf1 <\\x00r]\\xe9\\x97\\xf3\\xaa\\x1e\\xb5\\xf6y\\x0c\\xff\\x88\\xd9B\\x1dS\\x07`\\xdd\\xdek\\x98\\xfa\\xfa\\xa4\\xa0q\\xa3\\xb7B\\x04\\xc2q\\'\\xb7\\xd6g(g=p[\\x7f\\xed\\xd5\\xa6\\xe2\\x9d^i\\xb1\\xde/\\t+\\x06p)xd\\xc3\\xe90Yp\\x96/\\xa5U{\\x83bT\\xd9&\\xda\\x06\\x97 2)\\\\|\\x89\\xe6\\x9b\\xbc\\x11s\\x87\\xcfl\\x95\\xb9\\xb7wc\\xef\\xa0J U\\x17\\xb5e\\x92m\\xd8+\\x8bW<\\x17{H\\x1a\\xed4\\xc4\\xbd\\xca.\\xf4V\\xb9\\xcf\\x8a\\x9b\\xfd`\\xb5\\xbft\\x8bf\\xbc\\x01Ba\\xa3\\x94\\xfe\\x0c\\x97\\xdf\\x11:O\\xa5\\x94\\x8b\\x01\\xc2\\xb5\\xd5R\\xa2\\xd14\\x95G\\x90aF\\x99\\xd9\\x9d\\x7fP\\x88\\x92\\xe4n\\xfb\\xd0\\xf2\\xa9u\\x0f\\x84\\x11\\xd3\\rb\\xf0\\x9d\\x85\\x9dd<\\xa2\\x8d\\xb0\\xf4\\x8bb{\\x93:\\xb1\\x02\\x00\\'\\x0f\\x9bv\\x19\\xb2\\xda\\x95\\x15k\\x98\\xcfxt\\x07\\xbb\\x95/dNY\\x97\\xf9,\\xf0\\x9c]%\\x7f`\\x92\\xae#\\xed\\x18\\x7fIwve\\x1a\\xc5\\xcb\\xfcp\\xd6\\xc6t\\xddZ\\xf3\\x1e[\\xf8\\x8e\\xac\\x91\\xbc\\xc6E\\x16u\\x0f}\\x1by\\xa4\\x84B\\xe4\\xf8\\x13\\xe4\\x0eb\\xb5\\x96muiD\\x1f\\xa9\\xb8Mm\\xe8d\\xe0\\xb1\\xc5\\xa9\\x02\\x87h\\xe4\\xec\\xd5\\xe5\\x062P\\xf0;\\xba\\xc1\\xfa\\x8f\\xf2\\xff!\\xfb\\x93\\xf6\\x8aU\\xa9B>I\\x01\\x87\\xca\\xb7\\xd3\\r\\xb8\\x9e(\\xfe\\xead0\\xa9\\x8bJ[|\\x99_\\x8e\\x11\\x98\\x8b\\xf75\\xfc4\\xf6\\\\sc\\x12\\xefm\\n\\xa0\\xfe\\x9e\\x04\\xe4J\\xde=3r\\xe5H\\xc1T\\x8f\\x9c\\x14\\xf1\\xe3\\xc3\\x95\\x92\\xc8\\x1f\\x9ft\\xbd=\\xfe\\xc9\\x8171B\\xea\\xe9=\\x05\\xf6i\\xfb\\xb5\\x9fx\\x01;\\x02\\'\\xdc]\\x10\\x83\"\\xa8\\x00\\xbb\\xc3Q\\x89\\xad\\x1en&\\n!\\x04T\\xce\\xd5i\\x91\\x90\\xd7S\\xe3}\\xce\\x94\\x16r\\xf5\\x9cs\\xb1\\x93V:\\xe8=\\xa6X\\x9bW\\xc0\\xad \\xaa]\\xb2\\x16\\xd2)\\x13&\\x9b\\x8b\\x84\\x03Gs\\x0f\\xb8\\xa0\\x16L\\x83q\\xd4u\\x0bA\\xa7\\xb5uR\\xa0\\x08K\\xc3\\xdbSvLy\\xa1\\x9a\\x90E\\xfe2\\xb8\\xd8 \\x8a\\x8cG\\xb9\\x9d\\xba\\x1er\\xa7\\xed\\xb9\\xed\\'\\xd5\\xec\\xa3\\x8a\\xd8}\\x82~\\x10 G~4\\xcd\\x04/\\xb2\\xc2\\xcb\\xadf\\xed\\xbe\\x89\\xd5f&V\\xd8C\\x9b\\x9e\\xd4\\x91\\x13\\x0e\\x96t\\x08\\'\\x00\\xd9\\x00\\xc5\\x10P\\xce\\xc6\\xef\\xef\\xcf\\x07-\\xce\\xf0a\\xd3\\x968hnB\\x0c\\xa8\\x9e\\x17+\\xd8Ru\\x1b=\\x12q\\xa2\\x0c\\xd3\\n\\xa7\\xd0\\x8b\\x901\\xf1\\x8a\\xf65\\xc9=\\x19\\xaf\\xbfD\\xdc\\xc5\\xfb\\xd1\\x1e\\x12\\xf1+D\\x86\\xb2\\x9e~\\xbf@*\\xda7\\xd9U\\xd6\\xa1\\x8cB\\xd6\\x8c\\xde\\x19\\x9b5%\\x07%r\\x06\\x04~\\x92\\xa5[\\x99\\x1f\\x07H\\x07\\x0cl\\x1ex\\t\\xda2\\x9f3n\\xe7\\xb7V\\xce\\x94uWdR\\xe9\\xce\\x97?\\x9f\\xc1\\xf2(\\xd8\\xe1\\xe9r.\\xdf\\xb7\\xb2d\\x99[\\xe9\\x03\\xbd\\x89\\xa9W\\xc6\\xb3\\x06\\'w$H\\xfaiPi\\x9e\\xeb\\xf5\\xd7\\xe2\\xc5\\x9d*\\x94\\xa4\\xfaPj\\xad\\x0f69\\xb1\\x1b4\\'\\xfeY\\xe6\\xcfF\\x95;\\xa0\\xbbqAI\\x13\\xaf\\xc3\\x18\\x07\\x175\\x815\\xa5Fb\\xa2S\\xb3~>u\\n\\xa4\\xb0\\xb3\\xb9@Z\\t\\x10\\xe6\\x85\\x87\\xd5\\xd7TQ\\x88&\\xceh\\xa8\\xdfE\\xe7W\\x171\\xd3^\\xdb\\x84\\r\\x84\\xeb\\xbe:\\x84\\xd5\\x0f3\\xa9\\xf1\\xbdc\\x92\\x17\\x0ee-\\r\\x12}F o\\x1e\\x15T!\\x0f\\x9eS\\xb3\\xb6\\xe2\\xca\\x0c\\xf2\\xbb)\\x1f\\xb6\\x94\\xa8\\x8dr\\x12\\xe0\\x94P\\xbe\\r\\x81\\xac\\xd6o\\xda\\x103\\x1a\\x7f\\x109M\\r\\xe8\\x08F\\xa3\\xfc\\x7f%\\xd0\\x7fl\\x1b&\\x01\\xfc(\\xe4\\xaa:\\x1a\\xf7\\x83\\xb3@\\x8cm\\xa1\\x18x\\x9f\\xe5n\\xf1\\x19\\xef\\r\\xe6\\xdfY\\xfe\\xb9\\xec\\x82\\xc5\\x19D\\x9e\\xd53\\xa5O+\\x9f\\xb0U\\x8e\\x03\\xb8G\\x7fC\\x04\"\\xce\\n\\x98\\xe4\\xc3R\\x92'\n",
      "Text Décrypté AES : # Texte extrait du livre \"Arsène Lupin, gentleman-cambrioleur\" de Maurice Leblanc\n",
      "# Source: le projet Gutenberg https://www.gutenberg.org/ebooks/32854\n",
      "\n",
      "Arsène Lupin parmi nous! l'insaisissable cambrioleur dont on racontait\n",
      "les prouesses dans tous les journaux depuis des mois! l'énigmatique\n",
      "personnage avec qui le vieux Ganimard, notre meilleur policier, avait\n",
      "engagé ce duel à mort dont les péripéties se déroulaient de façon si\n",
      "pittoresque! Arsène Lupin, le fantaisiste gentleman qui n'opère que\n",
      "dans les châteaux et les salons, et qui, une nuit, où il avait pénétré\n",
      "chez le baron Schormann, en était parti les mains vides et avait\n",
      "laissé sa carte, ornée de cette formule: «Arsène Lupin,\n",
      "gentleman-cambrioleur, reviendra quand les meubles seront\n",
      "authentiques». Arsène Lupin, l'homme aux mille déguisements: tour à\n",
      "tour chauffeur, ténor, bookmaker, fils de famille, adolescent,\n",
      "vieillard, commis-voyageur marseillais, médecin russe, torero\n",
      "espagnol!\n"
     ]
    }
   ],
   "source": [
    "#Chiffrement à partir d'un fichier texte pour cassage brutal SDES\n",
    "with open(\"./texte/arsene_lupin_extrait.txt\", \"r\") as file:\n",
    "        # Lire le contenu du fichier\n",
    "        Message_claire_TXT_AES = file.read()\n",
    "cléAES = get_random_bytes(32)\n",
    "\n",
    "#CryptageAES\n",
    "text_crypté,nonce = cryptageAES(Message_claire_TXT_AES, cléAES)\n",
    "print(\"Text crypté AES :\", text_crypté)\n",
    "\n",
    "# DecryptageAES\n",
    "text_decrypté = decryptageAES(text_crypté, cléAES,nonce)\n",
    "print(\"Text Décrypté AES :\", text_decrypté)"
   ]
  },
  {
   "cell_type": "markdown",
   "metadata": {},
   "source": [
    "### Analyse Image :\n"
   ]
  },
  {
   "cell_type": "code",
   "execution_count": 16,
   "metadata": {},
   "outputs": [],
   "source": [
    "from PIL import Image\n",
    "\n",
    "def analyse_image(chemin):\n",
    "    \"\"\"\n",
    "    Analyse une image pour extraire une séquence binaire à partir des bits de poids faible.\n",
    "\n",
    "    Args:\n",
    "        chemin (str): Le chemin vers le fichier image.\n",
    "\n",
    "    Returns:\n",
    "        str: Une séquence binaire extraite des bits de poids faible de l'image, limitée aux 64 premiers bits.\n",
    "    \"\"\"\n",
    "    res = \"\"\n",
    "    img = Image.open(chemin)\n",
    "    for i in range(img.size[1]):\n",
    "        for j in range(img.size[0]):\n",
    "            valeur = img.getpixel((j, i))\n",
    "            if valeur % 2 == 0:\n",
    "                res += \"0\"\n",
    "            else:\n",
    "                res += \"1\"\n",
    "    \n",
    "    return res[:64]\n",
    "\n"
   ]
  },
  {
   "cell_type": "code",
   "execution_count": 17,
   "metadata": {},
   "outputs": [
    {
     "name": "stdout",
     "output_type": "stream",
     "text": [
      "Le clé caché est : 1110011101101101001100010011111110010010101110011001000001001100\n"
     ]
    }
   ],
   "source": [
    "resultat=analyse_image(\"./Image/rossignol2.bmp\")\n",
    "print(\"Le clé caché est : \" +resultat)\n"
   ]
  },
  {
   "cell_type": "markdown",
   "metadata": {},
   "source": [
    "# Partie 3 :\n",
    "## Analyse des messages"
   ]
  },
  {
   "cell_type": "code",
   "execution_count": 18,
   "metadata": {},
   "outputs": [],
   "source": [
    "from scapy.all import *\n",
    "from cryptography.hazmat.primitives.ciphers import Cipher, algorithms, modes\n",
    "from cryptography.hazmat.backends import default_backend\n",
    "from cryptography.hazmat.primitives import padding\n",
    "\n",
    "# Fonction pour décrypter un message chiffré AES-256 en mode CBC avec un remplissage PKCS7\n",
    "def decrypt_aes_cbc(texte_chiffre, cle, vecteur_initialisation):\n",
    "    \"\"\"\n",
    "    Décrypte un message chiffré en utilisant l'algorithme AES-256 en mode CBC avec un remplissage PKCS7.\n",
    "\n",
    "    Args:\n",
    "        texte_chiffre (bytes): Les données chiffrées à décrypter.\n",
    "        cle (bytes): La clé de chiffrement AES-256.\n",
    "        vecteur_initialisation (bytes): Le vecteur d'initialisation (IV) utilisé pour le mode CBC.\n",
    "\n",
    "    Returns:\n",
    "        bytes: Les données décryptées.\n",
    "    \"\"\"\n",
    "    chiffrer = Cipher(algorithms.AES(cle), modes.CBC(vecteur_initialisation), backend=default_backend())\n",
    "    decrypteur = chiffrer.decryptor()\n",
    "    pad = padding.PKCS7(128).unpadder()\n",
    "\n",
    "    donnees_dechiffrees = decrypteur.update(texte_chiffre) + decrypteur.finalize()\n",
    "    pad_data = pad.update(donnees_dechiffrees) + pad.finalize()\n",
    "\n",
    "    return pad_data\n",
    "\n",
    "\n",
    "\n",
    "def messageFinal(capture,cle,port):\n",
    "    \"\"\"\n",
    "    Décrypte et affiche les messages chiffrés contenus dans une capture réseau.\n",
    "\n",
    "    Args:\n",
    "        capture (scapy.plist.PacketList): La capture réseau à analyser.\n",
    "        cle (bytes): La clé de chiffrement utilisée pour le déchiffrement AES-256.\n",
    "        port (int): Le numéro de port UDP utilisé pour la communication.\n",
    "\n",
    "    Returns:\n",
    "        None\n",
    "    \"\"\"\n",
    "    for paquet in capture:\n",
    "        if UDP in paquet and paquet[UDP].dport == port:\n",
    "            # Extraire le vecteur d'initialisation et le message chiffré\n",
    "            vecteur_initialisation = paquet[Raw].load[:16]\n",
    "            texte_chiffre = paquet[Raw].load[16:]\n",
    "            message_dechiffre = decrypt_aes_cbc(texte_chiffre, cle, vecteur_initialisation)\n",
    "            print(message_dechiffre.decode('utf-8', errors='ignore'))\n"
   ]
  },
  {
   "cell_type": "code",
   "execution_count": 19,
   "metadata": {},
   "outputs": [
    {
     "name": "stdout",
     "output_type": "stream",
     "text": [
      "La crypto c'est trop bien!\n",
      "Je suis complètement d'accord!\n"
     ]
    }
   ],
   "source": [
    "# Charger le fichier de capture réseau\n",
    "capture = rdpcap('./analyse_trace/trace_sae.cap') \n",
    "\n",
    "# Répliquer la clé 4 fois pour obtenir la clé de 256 bits\n",
    "cle_complete = bytes([int(resultat[i:i+8], 2) for i in range(0, len(resultat), 8)]) * 4\n",
    "port = 9999\n",
    "\n",
    "messageFinal(capture,cle_complete,port)"
   ]
  }
 ],
 "metadata": {
  "kernelspec": {
   "display_name": "Python 3",
   "language": "python",
   "name": "python3"
  },
  "language_info": {
   "codemirror_mode": {
    "name": "ipython",
    "version": 3
   },
   "file_extension": ".py",
   "mimetype": "text/x-python",
   "name": "python",
   "nbconvert_exporter": "python",
   "pygments_lexer": "ipython3",
   "version": "3.10.12"
  }
 },
 "nbformat": 4,
 "nbformat_minor": 2
}
